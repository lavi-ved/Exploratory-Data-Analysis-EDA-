{
 "cells": [
  {
   "cell_type": "code",
   "execution_count": 80,
   "id": "27162929",
   "metadata": {},
   "outputs": [],
   "source": [
    "import pandas as pd\n",
    "import numpy as np\n",
    "import seaborn as sns \n",
    "import matplotlib.pyplot as plt \n",
    "import datetime\n",
    "import warnings\n",
    "from pandas.plotting import parallel_coordinates\n",
    "warnings.filterwarnings('ignore')\n",
    "\n"
   ]
  },
  {
   "cell_type": "code",
   "execution_count": 81,
   "id": "24218c7e",
   "metadata": {},
   "outputs": [],
   "source": [
    "data = pd.read_csv(\"C:/Users/KIWI/Downloads/analytics vidhya/nyc_taxi_final-1560498097450/nyc_taxi_trip_duration.csv\")"
   ]
  },
  {
   "cell_type": "code",
   "execution_count": 82,
   "id": "f45b833f",
   "metadata": {},
   "outputs": [
    {
     "data": {
      "text/html": [
       "<div>\n",
       "<style scoped>\n",
       "    .dataframe tbody tr th:only-of-type {\n",
       "        vertical-align: middle;\n",
       "    }\n",
       "\n",
       "    .dataframe tbody tr th {\n",
       "        vertical-align: top;\n",
       "    }\n",
       "\n",
       "    .dataframe thead th {\n",
       "        text-align: right;\n",
       "    }\n",
       "</style>\n",
       "<table border=\"1\" class=\"dataframe\">\n",
       "  <thead>\n",
       "    <tr style=\"text-align: right;\">\n",
       "      <th></th>\n",
       "      <th>id</th>\n",
       "      <th>vendor_id</th>\n",
       "      <th>pickup_datetime</th>\n",
       "      <th>dropoff_datetime</th>\n",
       "      <th>passenger_count</th>\n",
       "      <th>pickup_longitude</th>\n",
       "      <th>pickup_latitude</th>\n",
       "      <th>dropoff_longitude</th>\n",
       "      <th>dropoff_latitude</th>\n",
       "      <th>store_and_fwd_flag</th>\n",
       "      <th>trip_duration</th>\n",
       "    </tr>\n",
       "  </thead>\n",
       "  <tbody>\n",
       "    <tr>\n",
       "      <th>0</th>\n",
       "      <td>id1080784</td>\n",
       "      <td>2</td>\n",
       "      <td>2016-02-29 16:40:21</td>\n",
       "      <td>2016-02-29 16:47:01</td>\n",
       "      <td>1</td>\n",
       "      <td>-73.953918</td>\n",
       "      <td>40.778873</td>\n",
       "      <td>-73.963875</td>\n",
       "      <td>40.771164</td>\n",
       "      <td>N</td>\n",
       "      <td>400</td>\n",
       "    </tr>\n",
       "    <tr>\n",
       "      <th>1</th>\n",
       "      <td>id0889885</td>\n",
       "      <td>1</td>\n",
       "      <td>2016-03-11 23:35:37</td>\n",
       "      <td>2016-03-11 23:53:57</td>\n",
       "      <td>2</td>\n",
       "      <td>-73.988312</td>\n",
       "      <td>40.731743</td>\n",
       "      <td>-73.994751</td>\n",
       "      <td>40.694931</td>\n",
       "      <td>N</td>\n",
       "      <td>1100</td>\n",
       "    </tr>\n",
       "    <tr>\n",
       "      <th>2</th>\n",
       "      <td>id0857912</td>\n",
       "      <td>2</td>\n",
       "      <td>2016-02-21 17:59:33</td>\n",
       "      <td>2016-02-21 18:26:48</td>\n",
       "      <td>2</td>\n",
       "      <td>-73.997314</td>\n",
       "      <td>40.721458</td>\n",
       "      <td>-73.948029</td>\n",
       "      <td>40.774918</td>\n",
       "      <td>N</td>\n",
       "      <td>1635</td>\n",
       "    </tr>\n",
       "    <tr>\n",
       "      <th>3</th>\n",
       "      <td>id3744273</td>\n",
       "      <td>2</td>\n",
       "      <td>2016-01-05 09:44:31</td>\n",
       "      <td>2016-01-05 10:03:32</td>\n",
       "      <td>6</td>\n",
       "      <td>-73.961670</td>\n",
       "      <td>40.759720</td>\n",
       "      <td>-73.956779</td>\n",
       "      <td>40.780628</td>\n",
       "      <td>N</td>\n",
       "      <td>1141</td>\n",
       "    </tr>\n",
       "    <tr>\n",
       "      <th>4</th>\n",
       "      <td>id0232939</td>\n",
       "      <td>1</td>\n",
       "      <td>2016-02-17 06:42:23</td>\n",
       "      <td>2016-02-17 06:56:31</td>\n",
       "      <td>1</td>\n",
       "      <td>-74.017120</td>\n",
       "      <td>40.708469</td>\n",
       "      <td>-73.988182</td>\n",
       "      <td>40.740631</td>\n",
       "      <td>N</td>\n",
       "      <td>848</td>\n",
       "    </tr>\n",
       "  </tbody>\n",
       "</table>\n",
       "</div>"
      ],
      "text/plain": [
       "          id  vendor_id      pickup_datetime     dropoff_datetime  \\\n",
       "0  id1080784          2  2016-02-29 16:40:21  2016-02-29 16:47:01   \n",
       "1  id0889885          1  2016-03-11 23:35:37  2016-03-11 23:53:57   \n",
       "2  id0857912          2  2016-02-21 17:59:33  2016-02-21 18:26:48   \n",
       "3  id3744273          2  2016-01-05 09:44:31  2016-01-05 10:03:32   \n",
       "4  id0232939          1  2016-02-17 06:42:23  2016-02-17 06:56:31   \n",
       "\n",
       "   passenger_count  pickup_longitude  pickup_latitude  dropoff_longitude  \\\n",
       "0                1        -73.953918        40.778873         -73.963875   \n",
       "1                2        -73.988312        40.731743         -73.994751   \n",
       "2                2        -73.997314        40.721458         -73.948029   \n",
       "3                6        -73.961670        40.759720         -73.956779   \n",
       "4                1        -74.017120        40.708469         -73.988182   \n",
       "\n",
       "   dropoff_latitude store_and_fwd_flag  trip_duration  \n",
       "0         40.771164                  N            400  \n",
       "1         40.694931                  N           1100  \n",
       "2         40.774918                  N           1635  \n",
       "3         40.780628                  N           1141  \n",
       "4         40.740631                  N            848  "
      ]
     },
     "execution_count": 82,
     "metadata": {},
     "output_type": "execute_result"
    }
   ],
   "source": [
    "data.head(5)"
   ]
  },
  {
   "cell_type": "code",
   "execution_count": 83,
   "id": "0d883bc9",
   "metadata": {},
   "outputs": [
    {
     "data": {
      "text/html": [
       "<div>\n",
       "<style scoped>\n",
       "    .dataframe tbody tr th:only-of-type {\n",
       "        vertical-align: middle;\n",
       "    }\n",
       "\n",
       "    .dataframe tbody tr th {\n",
       "        vertical-align: top;\n",
       "    }\n",
       "\n",
       "    .dataframe thead th {\n",
       "        text-align: right;\n",
       "    }\n",
       "</style>\n",
       "<table border=\"1\" class=\"dataframe\">\n",
       "  <thead>\n",
       "    <tr style=\"text-align: right;\">\n",
       "      <th></th>\n",
       "      <th>id</th>\n",
       "      <th>vendor_id</th>\n",
       "      <th>pickup_datetime</th>\n",
       "      <th>dropoff_datetime</th>\n",
       "      <th>passenger_count</th>\n",
       "      <th>pickup_longitude</th>\n",
       "      <th>pickup_latitude</th>\n",
       "      <th>dropoff_longitude</th>\n",
       "      <th>dropoff_latitude</th>\n",
       "      <th>store_and_fwd_flag</th>\n",
       "      <th>trip_duration</th>\n",
       "    </tr>\n",
       "  </thead>\n",
       "  <tbody>\n",
       "    <tr>\n",
       "      <th>729317</th>\n",
       "      <td>id3905982</td>\n",
       "      <td>2</td>\n",
       "      <td>2016-05-21 13:29:38</td>\n",
       "      <td>2016-05-21 13:34:34</td>\n",
       "      <td>2</td>\n",
       "      <td>-73.965919</td>\n",
       "      <td>40.789780</td>\n",
       "      <td>-73.952637</td>\n",
       "      <td>40.789181</td>\n",
       "      <td>N</td>\n",
       "      <td>296</td>\n",
       "    </tr>\n",
       "    <tr>\n",
       "      <th>729318</th>\n",
       "      <td>id0102861</td>\n",
       "      <td>1</td>\n",
       "      <td>2016-02-22 00:43:11</td>\n",
       "      <td>2016-02-22 00:48:26</td>\n",
       "      <td>1</td>\n",
       "      <td>-73.996666</td>\n",
       "      <td>40.737434</td>\n",
       "      <td>-74.001320</td>\n",
       "      <td>40.731911</td>\n",
       "      <td>N</td>\n",
       "      <td>315</td>\n",
       "    </tr>\n",
       "    <tr>\n",
       "      <th>729319</th>\n",
       "      <td>id0439699</td>\n",
       "      <td>1</td>\n",
       "      <td>2016-04-15 18:56:48</td>\n",
       "      <td>2016-04-15 19:08:01</td>\n",
       "      <td>1</td>\n",
       "      <td>-73.997849</td>\n",
       "      <td>40.761696</td>\n",
       "      <td>-74.001488</td>\n",
       "      <td>40.741207</td>\n",
       "      <td>N</td>\n",
       "      <td>673</td>\n",
       "    </tr>\n",
       "    <tr>\n",
       "      <th>729320</th>\n",
       "      <td>id2078912</td>\n",
       "      <td>1</td>\n",
       "      <td>2016-06-19 09:50:47</td>\n",
       "      <td>2016-06-19 09:58:14</td>\n",
       "      <td>1</td>\n",
       "      <td>-74.006706</td>\n",
       "      <td>40.708244</td>\n",
       "      <td>-74.013550</td>\n",
       "      <td>40.713814</td>\n",
       "      <td>N</td>\n",
       "      <td>447</td>\n",
       "    </tr>\n",
       "    <tr>\n",
       "      <th>729321</th>\n",
       "      <td>id1053441</td>\n",
       "      <td>2</td>\n",
       "      <td>2016-01-01 17:24:16</td>\n",
       "      <td>2016-01-01 17:44:40</td>\n",
       "      <td>4</td>\n",
       "      <td>-74.003342</td>\n",
       "      <td>40.743839</td>\n",
       "      <td>-73.945847</td>\n",
       "      <td>40.712841</td>\n",
       "      <td>N</td>\n",
       "      <td>1224</td>\n",
       "    </tr>\n",
       "  </tbody>\n",
       "</table>\n",
       "</div>"
      ],
      "text/plain": [
       "               id  vendor_id      pickup_datetime     dropoff_datetime  \\\n",
       "729317  id3905982          2  2016-05-21 13:29:38  2016-05-21 13:34:34   \n",
       "729318  id0102861          1  2016-02-22 00:43:11  2016-02-22 00:48:26   \n",
       "729319  id0439699          1  2016-04-15 18:56:48  2016-04-15 19:08:01   \n",
       "729320  id2078912          1  2016-06-19 09:50:47  2016-06-19 09:58:14   \n",
       "729321  id1053441          2  2016-01-01 17:24:16  2016-01-01 17:44:40   \n",
       "\n",
       "        passenger_count  pickup_longitude  pickup_latitude  dropoff_longitude  \\\n",
       "729317                2        -73.965919        40.789780         -73.952637   \n",
       "729318                1        -73.996666        40.737434         -74.001320   \n",
       "729319                1        -73.997849        40.761696         -74.001488   \n",
       "729320                1        -74.006706        40.708244         -74.013550   \n",
       "729321                4        -74.003342        40.743839         -73.945847   \n",
       "\n",
       "        dropoff_latitude store_and_fwd_flag  trip_duration  \n",
       "729317         40.789181                  N            296  \n",
       "729318         40.731911                  N            315  \n",
       "729319         40.741207                  N            673  \n",
       "729320         40.713814                  N            447  \n",
       "729321         40.712841                  N           1224  "
      ]
     },
     "execution_count": 83,
     "metadata": {},
     "output_type": "execute_result"
    }
   ],
   "source": [
    "data.tail(5)"
   ]
  },
  {
   "cell_type": "code",
   "execution_count": 84,
   "id": "7dd9ebc0",
   "metadata": {},
   "outputs": [
    {
     "data": {
      "text/plain": [
       "id                     object\n",
       "vendor_id               int64\n",
       "pickup_datetime        object\n",
       "dropoff_datetime       object\n",
       "passenger_count         int64\n",
       "pickup_longitude      float64\n",
       "pickup_latitude       float64\n",
       "dropoff_longitude     float64\n",
       "dropoff_latitude      float64\n",
       "store_and_fwd_flag     object\n",
       "trip_duration           int64\n",
       "dtype: object"
      ]
     },
     "execution_count": 84,
     "metadata": {},
     "output_type": "execute_result"
    }
   ],
   "source": [
    "\n",
    "data.dtypes"
   ]
  },
  {
   "cell_type": "code",
   "execution_count": 85,
   "id": "4d409d3c",
   "metadata": {},
   "outputs": [
    {
     "data": {
      "text/plain": [
       "Index(['vendor_id', 'passenger_count', 'pickup_longitude', 'pickup_latitude',\n",
       "       'dropoff_longitude', 'dropoff_latitude', 'trip_duration'],\n",
       "      dtype='object')"
      ]
     },
     "execution_count": 85,
     "metadata": {},
     "output_type": "execute_result"
    }
   ],
   "source": [
    "numerical_cols = data.select_dtypes(include = ['int','float']).columns\n",
    "numerical_cols"
   ]
  },
  {
   "cell_type": "code",
   "execution_count": 7,
   "id": "cb54e540",
   "metadata": {},
   "outputs": [
    {
     "data": {
      "text/html": [
       "<div>\n",
       "<style scoped>\n",
       "    .dataframe tbody tr th:only-of-type {\n",
       "        vertical-align: middle;\n",
       "    }\n",
       "\n",
       "    .dataframe tbody tr th {\n",
       "        vertical-align: top;\n",
       "    }\n",
       "\n",
       "    .dataframe thead th {\n",
       "        text-align: right;\n",
       "    }\n",
       "</style>\n",
       "<table border=\"1\" class=\"dataframe\">\n",
       "  <thead>\n",
       "    <tr style=\"text-align: right;\">\n",
       "      <th></th>\n",
       "      <th>id</th>\n",
       "      <th>vendor_id</th>\n",
       "      <th>pickup_datetime</th>\n",
       "      <th>dropoff_datetime</th>\n",
       "      <th>passenger_count</th>\n",
       "      <th>pickup_longitude</th>\n",
       "      <th>pickup_latitude</th>\n",
       "      <th>dropoff_longitude</th>\n",
       "      <th>dropoff_latitude</th>\n",
       "      <th>store_and_fwd_flag</th>\n",
       "      <th>trip_duration</th>\n",
       "    </tr>\n",
       "  </thead>\n",
       "  <tbody>\n",
       "    <tr>\n",
       "      <th>70318</th>\n",
       "      <td>id0553321</td>\n",
       "      <td>2</td>\n",
       "      <td>2016-04-11 19:01:35</td>\n",
       "      <td>2016-04-11 19:01:36</td>\n",
       "      <td>1</td>\n",
       "      <td>-73.945999</td>\n",
       "      <td>40.792202</td>\n",
       "      <td>-73.947411</td>\n",
       "      <td>40.792740</td>\n",
       "      <td>N</td>\n",
       "      <td>1</td>\n",
       "    </tr>\n",
       "    <tr>\n",
       "      <th>95823</th>\n",
       "      <td>id2943073</td>\n",
       "      <td>2</td>\n",
       "      <td>2016-01-03 16:55:44</td>\n",
       "      <td>2016-01-03 16:55:45</td>\n",
       "      <td>1</td>\n",
       "      <td>-73.975677</td>\n",
       "      <td>40.785488</td>\n",
       "      <td>-73.976372</td>\n",
       "      <td>40.785831</td>\n",
       "      <td>N</td>\n",
       "      <td>1</td>\n",
       "    </tr>\n",
       "    <tr>\n",
       "      <th>102646</th>\n",
       "      <td>id2536510</td>\n",
       "      <td>1</td>\n",
       "      <td>2016-04-17 11:44:49</td>\n",
       "      <td>2016-04-17 11:44:50</td>\n",
       "      <td>1</td>\n",
       "      <td>-73.940384</td>\n",
       "      <td>40.786423</td>\n",
       "      <td>-73.940300</td>\n",
       "      <td>40.786373</td>\n",
       "      <td>N</td>\n",
       "      <td>1</td>\n",
       "    </tr>\n",
       "    <tr>\n",
       "      <th>119181</th>\n",
       "      <td>id2517984</td>\n",
       "      <td>1</td>\n",
       "      <td>2016-01-09 00:28:55</td>\n",
       "      <td>2016-01-09 00:28:56</td>\n",
       "      <td>1</td>\n",
       "      <td>-73.861961</td>\n",
       "      <td>40.768559</td>\n",
       "      <td>-73.861961</td>\n",
       "      <td>40.768559</td>\n",
       "      <td>N</td>\n",
       "      <td>1</td>\n",
       "    </tr>\n",
       "    <tr>\n",
       "      <th>296874</th>\n",
       "      <td>id1520236</td>\n",
       "      <td>1</td>\n",
       "      <td>2016-05-17 09:03:38</td>\n",
       "      <td>2016-05-17 09:03:39</td>\n",
       "      <td>1</td>\n",
       "      <td>-73.819893</td>\n",
       "      <td>40.740822</td>\n",
       "      <td>-73.819885</td>\n",
       "      <td>40.740822</td>\n",
       "      <td>N</td>\n",
       "      <td>1</td>\n",
       "    </tr>\n",
       "    <tr>\n",
       "      <th>312992</th>\n",
       "      <td>id0075470</td>\n",
       "      <td>1</td>\n",
       "      <td>2016-03-07 16:12:28</td>\n",
       "      <td>2016-03-07 16:12:29</td>\n",
       "      <td>1</td>\n",
       "      <td>-73.980690</td>\n",
       "      <td>40.744419</td>\n",
       "      <td>-73.980690</td>\n",
       "      <td>40.744419</td>\n",
       "      <td>N</td>\n",
       "      <td>1</td>\n",
       "    </tr>\n",
       "    <tr>\n",
       "      <th>323299</th>\n",
       "      <td>id0578509</td>\n",
       "      <td>1</td>\n",
       "      <td>2016-02-03 12:35:22</td>\n",
       "      <td>2016-02-03 12:35:23</td>\n",
       "      <td>1</td>\n",
       "      <td>-73.980560</td>\n",
       "      <td>40.754829</td>\n",
       "      <td>-73.980560</td>\n",
       "      <td>40.754829</td>\n",
       "      <td>N</td>\n",
       "      <td>1</td>\n",
       "    </tr>\n",
       "    <tr>\n",
       "      <th>398887</th>\n",
       "      <td>id2402793</td>\n",
       "      <td>1</td>\n",
       "      <td>2016-04-30 00:28:45</td>\n",
       "      <td>2016-04-30 00:28:46</td>\n",
       "      <td>1</td>\n",
       "      <td>-73.789658</td>\n",
       "      <td>40.647003</td>\n",
       "      <td>-73.789658</td>\n",
       "      <td>40.647003</td>\n",
       "      <td>N</td>\n",
       "      <td>1</td>\n",
       "    </tr>\n",
       "    <tr>\n",
       "      <th>512833</th>\n",
       "      <td>id2697717</td>\n",
       "      <td>2</td>\n",
       "      <td>2016-03-27 12:55:52</td>\n",
       "      <td>2016-03-27 12:55:53</td>\n",
       "      <td>2</td>\n",
       "      <td>-73.983154</td>\n",
       "      <td>40.767159</td>\n",
       "      <td>-73.983238</td>\n",
       "      <td>40.767097</td>\n",
       "      <td>N</td>\n",
       "      <td>1</td>\n",
       "    </tr>\n",
       "    <tr>\n",
       "      <th>533760</th>\n",
       "      <td>id0948644</td>\n",
       "      <td>2</td>\n",
       "      <td>2016-02-22 00:40:25</td>\n",
       "      <td>2016-02-22 00:40:26</td>\n",
       "      <td>0</td>\n",
       "      <td>-73.987595</td>\n",
       "      <td>40.719997</td>\n",
       "      <td>-73.987595</td>\n",
       "      <td>40.720005</td>\n",
       "      <td>N</td>\n",
       "      <td>1</td>\n",
       "    </tr>\n",
       "    <tr>\n",
       "      <th>566349</th>\n",
       "      <td>id0839864</td>\n",
       "      <td>1</td>\n",
       "      <td>2016-02-06 13:40:27</td>\n",
       "      <td>2016-02-06 13:40:28</td>\n",
       "      <td>1</td>\n",
       "      <td>-73.987991</td>\n",
       "      <td>40.724083</td>\n",
       "      <td>-73.987991</td>\n",
       "      <td>40.724079</td>\n",
       "      <td>N</td>\n",
       "      <td>1</td>\n",
       "    </tr>\n",
       "    <tr>\n",
       "      <th>622664</th>\n",
       "      <td>id0550194</td>\n",
       "      <td>1</td>\n",
       "      <td>2016-04-20 23:15:08</td>\n",
       "      <td>2016-04-20 23:15:09</td>\n",
       "      <td>1</td>\n",
       "      <td>-73.986282</td>\n",
       "      <td>40.750034</td>\n",
       "      <td>-73.986237</td>\n",
       "      <td>40.750088</td>\n",
       "      <td>N</td>\n",
       "      <td>1</td>\n",
       "    </tr>\n",
       "    <tr>\n",
       "      <th>672240</th>\n",
       "      <td>id2072503</td>\n",
       "      <td>1</td>\n",
       "      <td>2016-01-20 05:53:45</td>\n",
       "      <td>2016-01-20 05:53:46</td>\n",
       "      <td>1</td>\n",
       "      <td>-73.807213</td>\n",
       "      <td>40.658192</td>\n",
       "      <td>-73.807259</td>\n",
       "      <td>40.658051</td>\n",
       "      <td>N</td>\n",
       "      <td>1</td>\n",
       "    </tr>\n",
       "  </tbody>\n",
       "</table>\n",
       "</div>"
      ],
      "text/plain": [
       "               id  vendor_id      pickup_datetime     dropoff_datetime  \\\n",
       "70318   id0553321          2  2016-04-11 19:01:35  2016-04-11 19:01:36   \n",
       "95823   id2943073          2  2016-01-03 16:55:44  2016-01-03 16:55:45   \n",
       "102646  id2536510          1  2016-04-17 11:44:49  2016-04-17 11:44:50   \n",
       "119181  id2517984          1  2016-01-09 00:28:55  2016-01-09 00:28:56   \n",
       "296874  id1520236          1  2016-05-17 09:03:38  2016-05-17 09:03:39   \n",
       "312992  id0075470          1  2016-03-07 16:12:28  2016-03-07 16:12:29   \n",
       "323299  id0578509          1  2016-02-03 12:35:22  2016-02-03 12:35:23   \n",
       "398887  id2402793          1  2016-04-30 00:28:45  2016-04-30 00:28:46   \n",
       "512833  id2697717          2  2016-03-27 12:55:52  2016-03-27 12:55:53   \n",
       "533760  id0948644          2  2016-02-22 00:40:25  2016-02-22 00:40:26   \n",
       "566349  id0839864          1  2016-02-06 13:40:27  2016-02-06 13:40:28   \n",
       "622664  id0550194          1  2016-04-20 23:15:08  2016-04-20 23:15:09   \n",
       "672240  id2072503          1  2016-01-20 05:53:45  2016-01-20 05:53:46   \n",
       "\n",
       "        passenger_count  pickup_longitude  pickup_latitude  dropoff_longitude  \\\n",
       "70318                 1        -73.945999        40.792202         -73.947411   \n",
       "95823                 1        -73.975677        40.785488         -73.976372   \n",
       "102646                1        -73.940384        40.786423         -73.940300   \n",
       "119181                1        -73.861961        40.768559         -73.861961   \n",
       "296874                1        -73.819893        40.740822         -73.819885   \n",
       "312992                1        -73.980690        40.744419         -73.980690   \n",
       "323299                1        -73.980560        40.754829         -73.980560   \n",
       "398887                1        -73.789658        40.647003         -73.789658   \n",
       "512833                2        -73.983154        40.767159         -73.983238   \n",
       "533760                0        -73.987595        40.719997         -73.987595   \n",
       "566349                1        -73.987991        40.724083         -73.987991   \n",
       "622664                1        -73.986282        40.750034         -73.986237   \n",
       "672240                1        -73.807213        40.658192         -73.807259   \n",
       "\n",
       "        dropoff_latitude store_and_fwd_flag  trip_duration  \n",
       "70318          40.792740                  N              1  \n",
       "95823          40.785831                  N              1  \n",
       "102646         40.786373                  N              1  \n",
       "119181         40.768559                  N              1  \n",
       "296874         40.740822                  N              1  \n",
       "312992         40.744419                  N              1  \n",
       "323299         40.754829                  N              1  \n",
       "398887         40.647003                  N              1  \n",
       "512833         40.767097                  N              1  \n",
       "533760         40.720005                  N              1  \n",
       "566349         40.724079                  N              1  \n",
       "622664         40.750088                  N              1  \n",
       "672240         40.658051                  N              1  "
      ]
     },
     "execution_count": 7,
     "metadata": {},
     "output_type": "execute_result"
    }
   ],
   "source": [
    "#observation with minimum trip_duration\n",
    "data[data['trip_duration']== data['trip_duration'].min()]"
   ]
  },
  {
   "cell_type": "code",
   "execution_count": 8,
   "id": "b776ce84",
   "metadata": {},
   "outputs": [
    {
     "data": {
      "text/html": [
       "<div>\n",
       "<style scoped>\n",
       "    .dataframe tbody tr th:only-of-type {\n",
       "        vertical-align: middle;\n",
       "    }\n",
       "\n",
       "    .dataframe tbody tr th {\n",
       "        vertical-align: top;\n",
       "    }\n",
       "\n",
       "    .dataframe thead th {\n",
       "        text-align: right;\n",
       "    }\n",
       "</style>\n",
       "<table border=\"1\" class=\"dataframe\">\n",
       "  <thead>\n",
       "    <tr style=\"text-align: right;\">\n",
       "      <th></th>\n",
       "      <th>id</th>\n",
       "      <th>vendor_id</th>\n",
       "      <th>pickup_datetime</th>\n",
       "      <th>dropoff_datetime</th>\n",
       "      <th>passenger_count</th>\n",
       "      <th>pickup_longitude</th>\n",
       "      <th>pickup_latitude</th>\n",
       "      <th>dropoff_longitude</th>\n",
       "      <th>dropoff_latitude</th>\n",
       "      <th>store_and_fwd_flag</th>\n",
       "      <th>trip_duration</th>\n",
       "    </tr>\n",
       "  </thead>\n",
       "  <tbody>\n",
       "    <tr>\n",
       "      <th>21813</th>\n",
       "      <td>id1864733</td>\n",
       "      <td>1</td>\n",
       "      <td>2016-01-05 00:19:42</td>\n",
       "      <td>2016-01-27 11:08:38</td>\n",
       "      <td>1</td>\n",
       "      <td>-73.78965</td>\n",
       "      <td>40.643559</td>\n",
       "      <td>-73.95681</td>\n",
       "      <td>40.773087</td>\n",
       "      <td>N</td>\n",
       "      <td>1939736</td>\n",
       "    </tr>\n",
       "  </tbody>\n",
       "</table>\n",
       "</div>"
      ],
      "text/plain": [
       "              id  vendor_id      pickup_datetime     dropoff_datetime  \\\n",
       "21813  id1864733          1  2016-01-05 00:19:42  2016-01-27 11:08:38   \n",
       "\n",
       "       passenger_count  pickup_longitude  pickup_latitude  dropoff_longitude  \\\n",
       "21813                1         -73.78965        40.643559          -73.95681   \n",
       "\n",
       "       dropoff_latitude store_and_fwd_flag  trip_duration  \n",
       "21813         40.773087                  N        1939736  "
      ]
     },
     "execution_count": 8,
     "metadata": {},
     "output_type": "execute_result"
    }
   ],
   "source": [
    "data[data['trip_duration']==data['trip_duration'].max()]"
   ]
  },
  {
   "cell_type": "code",
   "execution_count": 9,
   "id": "5d5d70c3",
   "metadata": {},
   "outputs": [
    {
     "data": {
      "text/html": [
       "<div>\n",
       "<style scoped>\n",
       "    .dataframe tbody tr th:only-of-type {\n",
       "        vertical-align: middle;\n",
       "    }\n",
       "\n",
       "    .dataframe tbody tr th {\n",
       "        vertical-align: top;\n",
       "    }\n",
       "\n",
       "    .dataframe thead th {\n",
       "        text-align: right;\n",
       "    }\n",
       "</style>\n",
       "<table border=\"1\" class=\"dataframe\">\n",
       "  <thead>\n",
       "    <tr style=\"text-align: right;\">\n",
       "      <th></th>\n",
       "      <th>vendor_id</th>\n",
       "      <th>passenger_count</th>\n",
       "      <th>pickup_longitude</th>\n",
       "      <th>pickup_latitude</th>\n",
       "      <th>dropoff_longitude</th>\n",
       "      <th>dropoff_latitude</th>\n",
       "      <th>trip_duration</th>\n",
       "    </tr>\n",
       "  </thead>\n",
       "  <tbody>\n",
       "    <tr>\n",
       "      <th>count</th>\n",
       "      <td>729322.000000</td>\n",
       "      <td>729322.000000</td>\n",
       "      <td>729322.000000</td>\n",
       "      <td>729322.000000</td>\n",
       "      <td>729322.000000</td>\n",
       "      <td>729322.000000</td>\n",
       "      <td>7.293220e+05</td>\n",
       "    </tr>\n",
       "    <tr>\n",
       "      <th>mean</th>\n",
       "      <td>1.535403</td>\n",
       "      <td>1.662055</td>\n",
       "      <td>-73.973513</td>\n",
       "      <td>40.750919</td>\n",
       "      <td>-73.973422</td>\n",
       "      <td>40.751775</td>\n",
       "      <td>9.522291e+02</td>\n",
       "    </tr>\n",
       "    <tr>\n",
       "      <th>std</th>\n",
       "      <td>0.498745</td>\n",
       "      <td>1.312446</td>\n",
       "      <td>0.069754</td>\n",
       "      <td>0.033594</td>\n",
       "      <td>0.069588</td>\n",
       "      <td>0.036037</td>\n",
       "      <td>3.864626e+03</td>\n",
       "    </tr>\n",
       "    <tr>\n",
       "      <th>min</th>\n",
       "      <td>1.000000</td>\n",
       "      <td>0.000000</td>\n",
       "      <td>-121.933342</td>\n",
       "      <td>34.712234</td>\n",
       "      <td>-121.933304</td>\n",
       "      <td>32.181141</td>\n",
       "      <td>1.000000e+00</td>\n",
       "    </tr>\n",
       "    <tr>\n",
       "      <th>25%</th>\n",
       "      <td>1.000000</td>\n",
       "      <td>1.000000</td>\n",
       "      <td>-73.991859</td>\n",
       "      <td>40.737335</td>\n",
       "      <td>-73.991318</td>\n",
       "      <td>40.735931</td>\n",
       "      <td>3.970000e+02</td>\n",
       "    </tr>\n",
       "    <tr>\n",
       "      <th>50%</th>\n",
       "      <td>2.000000</td>\n",
       "      <td>1.000000</td>\n",
       "      <td>-73.981758</td>\n",
       "      <td>40.754070</td>\n",
       "      <td>-73.979759</td>\n",
       "      <td>40.754509</td>\n",
       "      <td>6.630000e+02</td>\n",
       "    </tr>\n",
       "    <tr>\n",
       "      <th>75%</th>\n",
       "      <td>2.000000</td>\n",
       "      <td>2.000000</td>\n",
       "      <td>-73.967361</td>\n",
       "      <td>40.768314</td>\n",
       "      <td>-73.963036</td>\n",
       "      <td>40.769741</td>\n",
       "      <td>1.075000e+03</td>\n",
       "    </tr>\n",
       "    <tr>\n",
       "      <th>max</th>\n",
       "      <td>2.000000</td>\n",
       "      <td>9.000000</td>\n",
       "      <td>-65.897385</td>\n",
       "      <td>51.881084</td>\n",
       "      <td>-65.897385</td>\n",
       "      <td>43.921028</td>\n",
       "      <td>1.939736e+06</td>\n",
       "    </tr>\n",
       "  </tbody>\n",
       "</table>\n",
       "</div>"
      ],
      "text/plain": [
       "           vendor_id  passenger_count  pickup_longitude  pickup_latitude  \\\n",
       "count  729322.000000    729322.000000     729322.000000    729322.000000   \n",
       "mean        1.535403         1.662055        -73.973513        40.750919   \n",
       "std         0.498745         1.312446          0.069754         0.033594   \n",
       "min         1.000000         0.000000       -121.933342        34.712234   \n",
       "25%         1.000000         1.000000        -73.991859        40.737335   \n",
       "50%         2.000000         1.000000        -73.981758        40.754070   \n",
       "75%         2.000000         2.000000        -73.967361        40.768314   \n",
       "max         2.000000         9.000000        -65.897385        51.881084   \n",
       "\n",
       "       dropoff_longitude  dropoff_latitude  trip_duration  \n",
       "count      729322.000000     729322.000000   7.293220e+05  \n",
       "mean          -73.973422         40.751775   9.522291e+02  \n",
       "std             0.069588          0.036037   3.864626e+03  \n",
       "min          -121.933304         32.181141   1.000000e+00  \n",
       "25%           -73.991318         40.735931   3.970000e+02  \n",
       "50%           -73.979759         40.754509   6.630000e+02  \n",
       "75%           -73.963036         40.769741   1.075000e+03  \n",
       "max           -65.897385         43.921028   1.939736e+06  "
      ]
     },
     "execution_count": 9,
     "metadata": {},
     "output_type": "execute_result"
    }
   ],
   "source": [
    "\n",
    "\n",
    "\n",
    "data.describe()"
   ]
  },
  {
   "cell_type": "code",
   "execution_count": 12,
   "id": "1c2ab711",
   "metadata": {},
   "outputs": [
    {
     "data": {
      "text/plain": [
       "vendor_id            2.000000e+00\n",
       "passenger_count      9.000000e+00\n",
       "pickup_longitude    -6.589738e+01\n",
       "pickup_latitude      5.188108e+01\n",
       "dropoff_longitude   -6.589738e+01\n",
       "dropoff_latitude     4.392103e+01\n",
       "trip_duration        1.939736e+06\n",
       "dtype: float64"
      ]
     },
     "execution_count": 12,
     "metadata": {},
     "output_type": "execute_result"
    }
   ],
   "source": [
    "data[numerical_cols].max()"
   ]
  },
  {
   "cell_type": "code",
   "execution_count": 13,
   "id": "3eee1870",
   "metadata": {},
   "outputs": [
    {
     "data": {
      "text/plain": [
       "vendor_id              1.000000\n",
       "passenger_count        0.000000\n",
       "pickup_longitude    -121.933342\n",
       "pickup_latitude       34.712234\n",
       "dropoff_longitude   -121.933304\n",
       "dropoff_latitude      32.181141\n",
       "trip_duration          1.000000\n",
       "dtype: float64"
      ]
     },
     "execution_count": 13,
     "metadata": {},
     "output_type": "execute_result"
    }
   ],
   "source": [
    "\n",
    "data[numerical_cols].min()"
   ]
  },
  {
   "cell_type": "code",
   "execution_count": 14,
   "id": "ffc79d58",
   "metadata": {},
   "outputs": [
    {
     "name": "stdout",
     "output_type": "stream",
     "text": [
      "range of vendor_id: [1, 2\n",
      "range of passenger_count: [0, 9\n",
      "range of pickup_longitude: [-121.93334197998048, -65.89738464355469\n",
      "range of pickup_latitude: [34.71223449707032, 51.88108444213867\n",
      "range of dropoff_longitude: [-121.9333038330078, -65.89738464355469\n",
      "range of dropoff_latitude: [32.1811408996582, 43.92102813720703\n",
      "range of trip_duration: [1, 1939736\n"
     ]
    }
   ],
   "source": [
    "for col in numerical_cols:\n",
    "    print(\"range of {}{}{}{}{}{}{}\".format(col,\":\",\" \",\"[\",data[col].min(), \", \",data[col].max(),\"]\"))"
   ]
  },
  {
   "cell_type": "code",
   "execution_count": 15,
   "id": "dcfe4902",
   "metadata": {},
   "outputs": [
    {
     "name": "stdout",
     "output_type": "stream",
     "text": [
      "-73.97351307454848\n"
     ]
    }
   ],
   "source": [
    "print(data['pickup_longitude'].mean())"
   ]
  },
  {
   "cell_type": "code",
   "execution_count": 16,
   "id": "7f028228",
   "metadata": {},
   "outputs": [
    {
     "name": "stdout",
     "output_type": "stream",
     "text": [
      "-73.97423600129132\n"
     ]
    }
   ],
   "source": [
    "print(data[data['passenger_count'] == 3]['pickup_longitude'].mean())"
   ]
  },
  {
   "cell_type": "code",
   "execution_count": 17,
   "id": "f11f5b4b",
   "metadata": {},
   "outputs": [
    {
     "data": {
      "text/plain": [
       "1.0"
      ]
     },
     "execution_count": 17,
     "metadata": {},
     "output_type": "execute_result"
    }
   ],
   "source": [
    "data['passenger_count'].median()\n"
   ]
  },
  {
   "cell_type": "code",
   "execution_count": 18,
   "id": "532f75e0",
   "metadata": {},
   "outputs": [
    {
     "data": {
      "text/plain": [
       "Text(0.5, 1.0, 'number of passenger pickuplongitude & lattitude')"
      ]
     },
     "execution_count": 18,
     "metadata": {},
     "output_type": "execute_result"
    },
    {
     "data": {
      "image/png": "[encoded data removed]",
      "text/plain": [
       "<Figure size 840x560 with 1 Axes>"
      ]
     },
     "metadata": {
      "needs_background": "light"
     },
     "output_type": "display_data"
    }
   ],
   "source": [
    "plt.figure(dpi =140)\n",
    "plt.hist(data['pickup_longitude'])\n",
    "plt.hist(data['pickup_latitude'])\n",
    "plt.legend(labels=['pickup_longitude', 'pickup_latitude'], loc='lower right')\n",
    "\n",
    "plt.xlabel('pickup')\n",
    "plt.ylabel('range')\n",
    "plt.title('number of passenger pickuplongitude & lattitude')"
   ]
  },
  {
   "cell_type": "code",
   "execution_count": 19,
   "id": "014dec1f",
   "metadata": {},
   "outputs": [],
   "source": [
    "data.pickup_datetime = pd.to_datetime(data.pickup_datetime)\n",
    "data.dropoff_datetime = pd.to_datetime(data.dropoff_datetime)"
   ]
  },
  {
   "cell_type": "code",
   "execution_count": 20,
   "id": "12ffba30",
   "metadata": {},
   "outputs": [
    {
     "data": {
      "text/html": [
       "<div>\n",
       "<style scoped>\n",
       "    .dataframe tbody tr th:only-of-type {\n",
       "        vertical-align: middle;\n",
       "    }\n",
       "\n",
       "    .dataframe tbody tr th {\n",
       "        vertical-align: top;\n",
       "    }\n",
       "\n",
       "    .dataframe thead th {\n",
       "        text-align: right;\n",
       "    }\n",
       "</style>\n",
       "<table border=\"1\" class=\"dataframe\">\n",
       "  <thead>\n",
       "    <tr style=\"text-align: right;\">\n",
       "      <th></th>\n",
       "      <th>id</th>\n",
       "      <th>vendor_id</th>\n",
       "      <th>pickup_datetime</th>\n",
       "      <th>dropoff_datetime</th>\n",
       "      <th>passenger_count</th>\n",
       "      <th>pickup_longitude</th>\n",
       "      <th>pickup_latitude</th>\n",
       "      <th>dropoff_longitude</th>\n",
       "      <th>dropoff_latitude</th>\n",
       "      <th>store_and_fwd_flag</th>\n",
       "      <th>trip_duration</th>\n",
       "    </tr>\n",
       "  </thead>\n",
       "  <tbody>\n",
       "    <tr>\n",
       "      <th>0</th>\n",
       "      <td>id1080784</td>\n",
       "      <td>2</td>\n",
       "      <td>2016-02-29 16:40:21</td>\n",
       "      <td>2016-02-29 16:47:01</td>\n",
       "      <td>1</td>\n",
       "      <td>-73.953918</td>\n",
       "      <td>40.778873</td>\n",
       "      <td>-73.963875</td>\n",
       "      <td>40.771164</td>\n",
       "      <td>N</td>\n",
       "      <td>400</td>\n",
       "    </tr>\n",
       "    <tr>\n",
       "      <th>1</th>\n",
       "      <td>id0889885</td>\n",
       "      <td>1</td>\n",
       "      <td>2016-03-11 23:35:37</td>\n",
       "      <td>2016-03-11 23:53:57</td>\n",
       "      <td>2</td>\n",
       "      <td>-73.988312</td>\n",
       "      <td>40.731743</td>\n",
       "      <td>-73.994751</td>\n",
       "      <td>40.694931</td>\n",
       "      <td>N</td>\n",
       "      <td>1100</td>\n",
       "    </tr>\n",
       "    <tr>\n",
       "      <th>2</th>\n",
       "      <td>id0857912</td>\n",
       "      <td>2</td>\n",
       "      <td>2016-02-21 17:59:33</td>\n",
       "      <td>2016-02-21 18:26:48</td>\n",
       "      <td>2</td>\n",
       "      <td>-73.997314</td>\n",
       "      <td>40.721458</td>\n",
       "      <td>-73.948029</td>\n",
       "      <td>40.774918</td>\n",
       "      <td>N</td>\n",
       "      <td>1635</td>\n",
       "    </tr>\n",
       "    <tr>\n",
       "      <th>3</th>\n",
       "      <td>id3744273</td>\n",
       "      <td>2</td>\n",
       "      <td>2016-01-05 09:44:31</td>\n",
       "      <td>2016-01-05 10:03:32</td>\n",
       "      <td>6</td>\n",
       "      <td>-73.961670</td>\n",
       "      <td>40.759720</td>\n",
       "      <td>-73.956779</td>\n",
       "      <td>40.780628</td>\n",
       "      <td>N</td>\n",
       "      <td>1141</td>\n",
       "    </tr>\n",
       "    <tr>\n",
       "      <th>4</th>\n",
       "      <td>id0232939</td>\n",
       "      <td>1</td>\n",
       "      <td>2016-02-17 06:42:23</td>\n",
       "      <td>2016-02-17 06:56:31</td>\n",
       "      <td>1</td>\n",
       "      <td>-74.017120</td>\n",
       "      <td>40.708469</td>\n",
       "      <td>-73.988182</td>\n",
       "      <td>40.740631</td>\n",
       "      <td>N</td>\n",
       "      <td>848</td>\n",
       "    </tr>\n",
       "  </tbody>\n",
       "</table>\n",
       "</div>"
      ],
      "text/plain": [
       "          id  vendor_id     pickup_datetime    dropoff_datetime  \\\n",
       "0  id1080784          2 2016-02-29 16:40:21 2016-02-29 16:47:01   \n",
       "1  id0889885          1 2016-03-11 23:35:37 2016-03-11 23:53:57   \n",
       "2  id0857912          2 2016-02-21 17:59:33 2016-02-21 18:26:48   \n",
       "3  id3744273          2 2016-01-05 09:44:31 2016-01-05 10:03:32   \n",
       "4  id0232939          1 2016-02-17 06:42:23 2016-02-17 06:56:31   \n",
       "\n",
       "   passenger_count  pickup_longitude  pickup_latitude  dropoff_longitude  \\\n",
       "0                1        -73.953918        40.778873         -73.963875   \n",
       "1                2        -73.988312        40.731743         -73.994751   \n",
       "2                2        -73.997314        40.721458         -73.948029   \n",
       "3                6        -73.961670        40.759720         -73.956779   \n",
       "4                1        -74.017120        40.708469         -73.988182   \n",
       "\n",
       "   dropoff_latitude store_and_fwd_flag  trip_duration  \n",
       "0         40.771164                  N            400  \n",
       "1         40.694931                  N           1100  \n",
       "2         40.774918                  N           1635  \n",
       "3         40.780628                  N           1141  \n",
       "4         40.740631                  N            848  "
      ]
     },
     "execution_count": 20,
     "metadata": {},
     "output_type": "execute_result"
    }
   ],
   "source": [
    "data.head()"
   ]
  },
  {
   "cell_type": "code",
   "execution_count": 21,
   "id": "9a96925e",
   "metadata": {},
   "outputs": [
    {
     "data": {
      "text/plain": [
       "id                            object\n",
       "vendor_id                      int64\n",
       "pickup_datetime       datetime64[ns]\n",
       "dropoff_datetime      datetime64[ns]\n",
       "passenger_count                int64\n",
       "pickup_longitude             float64\n",
       "pickup_latitude              float64\n",
       "dropoff_longitude            float64\n",
       "dropoff_latitude             float64\n",
       "store_and_fwd_flag            object\n",
       "trip_duration                  int64\n",
       "dtype: object"
      ]
     },
     "execution_count": 21,
     "metadata": {},
     "output_type": "execute_result"
    }
   ],
   "source": [
    "data.dtypes"
   ]
  },
  {
   "cell_type": "code",
   "execution_count": 22,
   "id": "444024d0",
   "metadata": {},
   "outputs": [],
   "source": [
    "difference_of_dates = data['dropoff_datetime'] - data['pickup_datetime']"
   ]
  },
  {
   "cell_type": "code",
   "execution_count": 23,
   "id": "6de8c30d",
   "metadata": {},
   "outputs": [
    {
     "data": {
      "text/plain": [
       "0        0 days 00:06:40\n",
       "1        0 days 00:18:20\n",
       "2        0 days 00:27:15\n",
       "3        0 days 00:19:01\n",
       "4        0 days 00:14:08\n",
       "               ...      \n",
       "729317   0 days 00:04:56\n",
       "729318   0 days 00:05:15\n",
       "729319   0 days 00:11:13\n",
       "729320   0 days 00:07:27\n",
       "729321   0 days 00:20:24\n",
       "Length: 729322, dtype: timedelta64[ns]"
      ]
     },
     "execution_count": 23,
     "metadata": {},
     "output_type": "execute_result"
    }
   ],
   "source": [
    "difference_of_dates"
   ]
  },
  {
   "cell_type": "code",
   "execution_count": 24,
   "id": "f2cc034e",
   "metadata": {},
   "outputs": [
    {
     "data": {
      "text/plain": [
       "0   2016-02-29 16:47:01\n",
       "1   2016-03-11 23:53:57\n",
       "2   2016-02-21 18:26:48\n",
       "3   2016-01-05 10:03:32\n",
       "4   2016-02-17 06:56:31\n",
       "5   2016-02-14 18:55:57\n",
       "6   2016-04-20 20:36:51\n",
       "7   2016-06-19 17:06:35\n",
       "8   2016-03-28 19:48:29\n",
       "9   2016-04-10 22:25:30\n",
       "Name: dropoff_datetime, dtype: datetime64[ns]"
      ]
     },
     "execution_count": 24,
     "metadata": {},
     "output_type": "execute_result"
    }
   ],
   "source": [
    "data['dropoff_datetime'].head(10)"
   ]
  },
  {
   "cell_type": "code",
   "execution_count": 25,
   "id": "04813239",
   "metadata": {},
   "outputs": [
    {
     "data": {
      "text/plain": [
       "0            Monday\n",
       "1            Friday\n",
       "2            Sunday\n",
       "3           Tuesday\n",
       "4         Wednesday\n",
       "            ...    \n",
       "729317     Saturday\n",
       "729318       Monday\n",
       "729319       Friday\n",
       "729320       Sunday\n",
       "729321       Friday\n",
       "Name: dropoff_datetime, Length: 729322, dtype: object"
      ]
     },
     "execution_count": 25,
     "metadata": {},
     "output_type": "execute_result"
    }
   ],
   "source": [
    "data.dropoff_datetime.apply(lambda x: x.day_name())"
   ]
  },
  {
   "cell_type": "code",
   "execution_count": 121,
   "id": "c68fd370",
   "metadata": {},
   "outputs": [
    {
     "data": {
      "text/plain": [
       "(729322, 33)"
      ]
     },
     "execution_count": 121,
     "metadata": {},
     "output_type": "execute_result"
    }
   ],
   "source": [
    "data.shape"
   ]
  },
  {
   "cell_type": "code",
   "execution_count": 122,
   "id": "14608cc8",
   "metadata": {
    "scrolled": true
   },
   "outputs": [
    {
     "data": {
      "text/html": [
       "<div>\n",
       "<style scoped>\n",
       "    .dataframe tbody tr th:only-of-type {\n",
       "        vertical-align: middle;\n",
       "    }\n",
       "\n",
       "    .dataframe tbody tr th {\n",
       "        vertical-align: top;\n",
       "    }\n",
       "\n",
       "    .dataframe thead th {\n",
       "        text-align: right;\n",
       "    }\n",
       "</style>\n",
       "<table border=\"1\" class=\"dataframe\">\n",
       "  <thead>\n",
       "    <tr style=\"text-align: right;\">\n",
       "      <th></th>\n",
       "      <th>id</th>\n",
       "      <th>vendor_id</th>\n",
       "      <th>pickup_datetime</th>\n",
       "      <th>dropoff_datetime</th>\n",
       "      <th>passenger_count</th>\n",
       "      <th>pickup_longitude</th>\n",
       "      <th>pickup_latitude</th>\n",
       "      <th>dropoff_longitude</th>\n",
       "      <th>dropoff_latitude</th>\n",
       "      <th>store_and_fwd_flag</th>\n",
       "      <th>...</th>\n",
       "      <th>seconds</th>\n",
       "      <th>doh_ls_drop</th>\n",
       "      <th>dom_ls_drop</th>\n",
       "      <th>dos_ls_drop</th>\n",
       "      <th>drop_minutes</th>\n",
       "      <th>drop_seconds</th>\n",
       "      <th>final_pick</th>\n",
       "      <th>final_drop</th>\n",
       "      <th>distance_travel</th>\n",
       "      <th>time_travel</th>\n",
       "    </tr>\n",
       "  </thead>\n",
       "  <tbody>\n",
       "    <tr>\n",
       "      <th>0</th>\n",
       "      <td>id2380741</td>\n",
       "      <td>2</td>\n",
       "      <td>2016-05-21 10:40:14</td>\n",
       "      <td>2016-05-21 10:51:11</td>\n",
       "      <td>1</td>\n",
       "      <td>-73.981796</td>\n",
       "      <td>40.762035</td>\n",
       "      <td>-73.972267</td>\n",
       "      <td>40.781265</td>\n",
       "      <td>N</td>\n",
       "      <td>...</td>\n",
       "      <td>36000</td>\n",
       "      <td>36000</td>\n",
       "      <td>3060</td>\n",
       "      <td>11</td>\n",
       "      <td>600</td>\n",
       "      <td>36000</td>\n",
       "      <td>38414</td>\n",
       "      <td>39071</td>\n",
       "      <td>657</td>\n",
       "      <td>657</td>\n",
       "    </tr>\n",
       "    <tr>\n",
       "      <th>1</th>\n",
       "      <td>id3946961</td>\n",
       "      <td>2</td>\n",
       "      <td>2016-01-08 18:49:27</td>\n",
       "      <td>2016-01-08 18:52:42</td>\n",
       "      <td>5</td>\n",
       "      <td>-73.980965</td>\n",
       "      <td>40.747677</td>\n",
       "      <td>-73.982704</td>\n",
       "      <td>40.741161</td>\n",
       "      <td>N</td>\n",
       "      <td>...</td>\n",
       "      <td>64800</td>\n",
       "      <td>64800</td>\n",
       "      <td>3120</td>\n",
       "      <td>42</td>\n",
       "      <td>1080</td>\n",
       "      <td>64800</td>\n",
       "      <td>67767</td>\n",
       "      <td>67962</td>\n",
       "      <td>195</td>\n",
       "      <td>195</td>\n",
       "    </tr>\n",
       "    <tr>\n",
       "      <th>2</th>\n",
       "      <td>id0833913</td>\n",
       "      <td>1</td>\n",
       "      <td>2016-05-22 00:54:10</td>\n",
       "      <td>2016-05-22 01:08:10</td>\n",
       "      <td>1</td>\n",
       "      <td>-73.951065</td>\n",
       "      <td>40.782722</td>\n",
       "      <td>-73.867691</td>\n",
       "      <td>40.833664</td>\n",
       "      <td>N</td>\n",
       "      <td>...</td>\n",
       "      <td>3600</td>\n",
       "      <td>3600</td>\n",
       "      <td>480</td>\n",
       "      <td>10</td>\n",
       "      <td>60</td>\n",
       "      <td>3600</td>\n",
       "      <td>3250</td>\n",
       "      <td>4090</td>\n",
       "      <td>840</td>\n",
       "      <td>840</td>\n",
       "    </tr>\n",
       "    <tr>\n",
       "      <th>3</th>\n",
       "      <td>id1336849</td>\n",
       "      <td>1</td>\n",
       "      <td>2016-06-11 10:32:12</td>\n",
       "      <td>2016-06-11 10:38:50</td>\n",
       "      <td>1</td>\n",
       "      <td>-73.987625</td>\n",
       "      <td>40.762791</td>\n",
       "      <td>-73.973518</td>\n",
       "      <td>40.762909</td>\n",
       "      <td>N</td>\n",
       "      <td>...</td>\n",
       "      <td>36000</td>\n",
       "      <td>36000</td>\n",
       "      <td>2280</td>\n",
       "      <td>50</td>\n",
       "      <td>600</td>\n",
       "      <td>36000</td>\n",
       "      <td>37932</td>\n",
       "      <td>38330</td>\n",
       "      <td>398</td>\n",
       "      <td>398</td>\n",
       "    </tr>\n",
       "    <tr>\n",
       "      <th>4</th>\n",
       "      <td>id1610858</td>\n",
       "      <td>1</td>\n",
       "      <td>2016-04-03 10:45:51</td>\n",
       "      <td>2016-04-03 10:57:13</td>\n",
       "      <td>3</td>\n",
       "      <td>-73.964333</td>\n",
       "      <td>40.792503</td>\n",
       "      <td>-73.988609</td>\n",
       "      <td>40.758369</td>\n",
       "      <td>N</td>\n",
       "      <td>...</td>\n",
       "      <td>36000</td>\n",
       "      <td>36000</td>\n",
       "      <td>3420</td>\n",
       "      <td>13</td>\n",
       "      <td>600</td>\n",
       "      <td>36000</td>\n",
       "      <td>38751</td>\n",
       "      <td>39433</td>\n",
       "      <td>682</td>\n",
       "      <td>682</td>\n",
       "    </tr>\n",
       "  </tbody>\n",
       "</table>\n",
       "<p>5 rows × 33 columns</p>\n",
       "</div>"
      ],
      "text/plain": [
       "          id  vendor_id      pickup_datetime     dropoff_datetime  \\\n",
       "0  id2380741          2  2016-05-21 10:40:14  2016-05-21 10:51:11   \n",
       "1  id3946961          2  2016-01-08 18:49:27  2016-01-08 18:52:42   \n",
       "2  id0833913          1  2016-05-22 00:54:10  2016-05-22 01:08:10   \n",
       "3  id1336849          1  2016-06-11 10:32:12  2016-06-11 10:38:50   \n",
       "4  id1610858          1  2016-04-03 10:45:51  2016-04-03 10:57:13   \n",
       "\n",
       "   passenger_count  pickup_longitude  pickup_latitude  dropoff_longitude  \\\n",
       "0                1        -73.981796        40.762035         -73.972267   \n",
       "1                5        -73.980965        40.747677         -73.982704   \n",
       "2                1        -73.951065        40.782722         -73.867691   \n",
       "3                1        -73.987625        40.762791         -73.973518   \n",
       "4                3        -73.964333        40.792503         -73.988609   \n",
       "\n",
       "   dropoff_latitude store_and_fwd_flag  ...  seconds  doh_ls_drop  \\\n",
       "0         40.781265                  N  ...    36000        36000   \n",
       "1         40.741161                  N  ...    64800        64800   \n",
       "2         40.833664                  N  ...     3600         3600   \n",
       "3         40.762909                  N  ...    36000        36000   \n",
       "4         40.758369                  N  ...    36000        36000   \n",
       "\n",
       "   dom_ls_drop  dos_ls_drop  drop_minutes  drop_seconds  final_pick  \\\n",
       "0         3060           11           600         36000       38414   \n",
       "1         3120           42          1080         64800       67767   \n",
       "2          480           10            60          3600        3250   \n",
       "3         2280           50           600         36000       37932   \n",
       "4         3420           13           600         36000       38751   \n",
       "\n",
       "   final_drop  distance_travel  time_travel  \n",
       "0       39071              657          657  \n",
       "1       67962              195          195  \n",
       "2        4090              840          840  \n",
       "3       38330              398          398  \n",
       "4       39433              682          682  \n",
       "\n",
       "[5 rows x 33 columns]"
      ]
     },
     "execution_count": 122,
     "metadata": {},
     "output_type": "execute_result"
    }
   ],
   "source": [
    "data.reset_index(inplace=True, drop=True)\n",
    "data.head()\n"
   ]
  },
  {
   "cell_type": "code",
   "execution_count": null,
   "id": "b5823e79",
   "metadata": {},
   "outputs": [],
   "source": []
  },
  {
   "cell_type": "code",
   "execution_count": 28,
   "id": "e98233b9",
   "metadata": {},
   "outputs": [
    {
     "data": {
      "text/plain": [
       "id                    0\n",
       "vendor_id             0\n",
       "pickup_datetime       0\n",
       "dropoff_datetime      0\n",
       "passenger_count       0\n",
       "pickup_longitude      0\n",
       "pickup_latitude       0\n",
       "dropoff_longitude     0\n",
       "dropoff_latitude      0\n",
       "store_and_fwd_flag    0\n",
       "trip_duration         0\n",
       "dtype: int64"
      ]
     },
     "execution_count": 28,
     "metadata": {},
     "output_type": "execute_result"
    }
   ],
   "source": [
    "data.isna().sum()"
   ]
  },
  {
   "cell_type": "code",
   "execution_count": 29,
   "id": "05bd69d3",
   "metadata": {
    "scrolled": true
   },
   "outputs": [
    {
     "data": {
      "image/png": "[encoded data removed]",
      "text/plain": [
       "<Figure size 576x432 with 1 Axes>"
      ]
     },
     "metadata": {
      "needs_background": "light"
     },
     "output_type": "display_data"
    }
   ],
   "source": [
    "data['vendor_id'].value_counts().plot(kind='barh', figsize=(8, 6))\n",
    "plt.xlabel(\"Count\", labelpad=14)\n",
    "plt.ylabel(\"Target Variable\", labelpad=14)\n",
    "plt.title(\"Count of TARGET Variable per category\", y=1.02);"
   ]
  },
  {
   "cell_type": "code",
   "execution_count": 30,
   "id": "e0bfdba7",
   "metadata": {},
   "outputs": [
    {
     "data": {
      "image/png": "[encoded data removed]",
      "text/plain": [
       "<Figure size 576x432 with 1 Axes>"
      ]
     },
     "metadata": {
      "needs_background": "light"
     },
     "output_type": "display_data"
    }
   ],
   "source": [
    "data['passenger_count'].value_counts().plot(kind='barh', figsize=(8, 6))\n",
    "plt.xlabel(\"Count\", labelpad=14)\n",
    "plt.ylabel(\"passenger\", labelpad=14)\n",
    "plt.title(\"Count of passeneger\", y=1.02);"
   ]
  },
  {
   "cell_type": "code",
   "execution_count": 31,
   "id": "c303f621",
   "metadata": {},
   "outputs": [
    {
     "data": {
      "text/plain": [
       "1    517415\n",
       "2    105097\n",
       "5     38926\n",
       "3     29692\n",
       "6     24107\n",
       "4     14050\n",
       "0        33\n",
       "7         1\n",
       "9         1\n",
       "Name: passenger_count, dtype: int64"
      ]
     },
     "execution_count": 31,
     "metadata": {},
     "output_type": "execute_result"
    }
   ],
   "source": [
    "data['passenger_count'].value_counts()"
   ]
  },
  {
   "cell_type": "code",
   "execution_count": 32,
   "id": "d7d95e4e",
   "metadata": {},
   "outputs": [
    {
     "data": {
      "text/plain": [
       "-73.982140    317\n",
       "-73.982201    316\n",
       "-73.982101    308\n",
       "-73.982262    297\n",
       "-73.982094    296\n",
       "             ... \n",
       "-73.921638      1\n",
       "-73.784386      1\n",
       "-73.787369      1\n",
       "-73.925110      1\n",
       "-74.083611      1\n",
       "Name: pickup_longitude, Length: 19729, dtype: int64"
      ]
     },
     "execution_count": 32,
     "metadata": {},
     "output_type": "execute_result"
    }
   ],
   "source": [
    "data['pickup_longitude'].value_counts()"
   ]
  },
  {
   "cell_type": "code",
   "execution_count": 33,
   "id": "835174fa",
   "metadata": {},
   "outputs": [
    {
     "data": {
      "text/plain": [
       "40.774101    202\n",
       "40.774078    201\n",
       "40.774120    197\n",
       "40.774052    196\n",
       "40.774090    196\n",
       "            ... \n",
       "40.852081      1\n",
       "40.691257      1\n",
       "40.826107      1\n",
       "40.862808      1\n",
       "40.688335      1\n",
       "Name: pickup_latitude, Length: 39776, dtype: int64"
      ]
     },
     "execution_count": 33,
     "metadata": {},
     "output_type": "execute_result"
    }
   ],
   "source": [
    "data['pickup_latitude'].value_counts()"
   ]
  },
  {
   "cell_type": "code",
   "execution_count": 34,
   "id": "495b01ce",
   "metadata": {},
   "outputs": [
    {
     "data": {
      "text/plain": [
       "40.750149    145\n",
       "40.750172    137\n",
       "40.750038    136\n",
       "40.750141    132\n",
       "40.750092    126\n",
       "            ... \n",
       "40.840031      1\n",
       "40.699596      1\n",
       "40.668026      1\n",
       "40.811249      1\n",
       "40.594769      1\n",
       "Name: dropoff_latitude, Length: 53579, dtype: int64"
      ]
     },
     "execution_count": 34,
     "metadata": {},
     "output_type": "execute_result"
    }
   ],
   "source": [
    "data['dropoff_latitude'].value_counts()"
   ]
  },
  {
   "cell_type": "code",
   "execution_count": 35,
   "id": "dd3e9c77",
   "metadata": {},
   "outputs": [
    {
     "data": {
      "text/plain": [
       "-73.982330    239\n",
       "-73.982094    224\n",
       "-73.991402    222\n",
       "-73.982117    220\n",
       "-73.982246    217\n",
       "             ... \n",
       "-73.779694      1\n",
       "-74.025993      1\n",
       "-73.894569      1\n",
       "-74.055107      1\n",
       "-73.779953      1\n",
       "Name: dropoff_longitude, Length: 27892, dtype: int64"
      ]
     },
     "execution_count": 35,
     "metadata": {},
     "output_type": "execute_result"
    }
   ],
   "source": [
    "data['dropoff_longitude'].value_counts()"
   ]
  },
  {
   "cell_type": "code",
   "execution_count": null,
   "id": "ede0c05b",
   "metadata": {},
   "outputs": [],
   "source": [
    "data['pickup_datetime'].value_counts()"
   ]
  },
  {
   "cell_type": "code",
   "execution_count": 18,
   "id": "01aadf1e",
   "metadata": {},
   "outputs": [
    {
     "name": "stderr",
     "output_type": "stream",
     "text": [
      "C:\\Users\\KIWI\\anaconda3\\lib\\site-packages\\seaborn\\_decorators.py:36: FutureWarning: Pass the following variables as keyword args: x, y. From version 0.12, the only valid positional argument will be `data`, and passing other arguments without an explicit keyword will result in an error or misinterpretation.\n",
      "  warnings.warn(\n"
     ]
    },
    {
     "data": {
      "image/png": "[encoded data removed]",
      "text/plain": [
       "<Figure size 1152x360 with 1 Axes>"
      ]
     },
     "metadata": {
      "needs_background": "light"
     },
     "output_type": "display_data"
    }
   ],
   "source": [
    "# Having a look that data contains missing values or not\n",
    "missing = pd.DataFrame((data.isnull().sum())*100/data.shape[0]).reset_index()\n",
    "plt.figure(figsize=(16,5))\n",
    "ax = sns.pointplot('index',0,data=missing)\n",
    "plt.xticks(rotation =90,fontsize =7)\n",
    "plt.title(\"Percentage of Missing values\")\n",
    "plt.ylabel(\"PERCENTAGE\")\n",
    "plt.show()"
   ]
  },
  {
   "cell_type": "code",
   "execution_count": 5,
   "id": "0f5da2b4",
   "metadata": {},
   "outputs": [
    {
     "data": {
      "text/plain": [
       "id                    0\n",
       "vendor_id             0\n",
       "pickup_datetime       0\n",
       "dropoff_datetime      0\n",
       "passenger_count       0\n",
       "pickup_longitude      0\n",
       "pickup_latitude       0\n",
       "dropoff_longitude     0\n",
       "dropoff_latitude      0\n",
       "store_and_fwd_flag    0\n",
       "trip_duration         0\n",
       "dtype: int64"
      ]
     },
     "execution_count": 5,
     "metadata": {},
     "output_type": "execute_result"
    }
   ],
   "source": [
    "data.isnull().sum()"
   ]
  },
  {
   "cell_type": "code",
   "execution_count": 10,
   "id": "9cee064c",
   "metadata": {},
   "outputs": [],
   "source": [
    "from sklearn.utils import shuffle\n",
    "data = shuffle(data, random_state= 42)\n",
    "div = int(data.shape[0]/4)"
   ]
  },
  {
   "cell_type": "code",
   "execution_count": 11,
   "id": "cd5b223a",
   "metadata": {},
   "outputs": [
    {
     "data": {
      "text/plain": [
       "182330"
      ]
     },
     "execution_count": 11,
     "metadata": {},
     "output_type": "execute_result"
    }
   ],
   "source": [
    "div"
   ]
  },
  {
   "cell_type": "code",
   "execution_count": 12,
   "id": "8a91f5f5",
   "metadata": {},
   "outputs": [
    {
     "data": {
      "text/plain": [
       "(729322, 11)"
      ]
     },
     "execution_count": 12,
     "metadata": {},
     "output_type": "execute_result"
    }
   ],
   "source": [
    "data.shape"
   ]
  },
  {
   "cell_type": "code",
   "execution_count": 13,
   "id": "c591e8b4",
   "metadata": {},
   "outputs": [],
   "source": [
    "# 3 parts to train set and 1 part to test set\n",
    "train = data.iloc[:3*div+1,:]\n",
    "test = data.iloc[3*div+1:]"
   ]
  },
  {
   "cell_type": "code",
   "execution_count": 14,
   "id": "a9929a2d",
   "metadata": {},
   "outputs": [
    {
     "data": {
      "text/plain": [
       "((546991, 11), (182331, 11), (729322, 11))"
      ]
     },
     "execution_count": 14,
     "metadata": {},
     "output_type": "execute_result"
    }
   ],
   "source": [
    "train.shape,test.shape,data.shape"
   ]
  },
  {
   "cell_type": "code",
   "execution_count": 16,
   "id": "c6480baf",
   "metadata": {},
   "outputs": [
    {
     "data": {
      "text/html": [
       "<div>\n",
       "<style scoped>\n",
       "    .dataframe tbody tr th:only-of-type {\n",
       "        vertical-align: middle;\n",
       "    }\n",
       "\n",
       "    .dataframe tbody tr th {\n",
       "        vertical-align: top;\n",
       "    }\n",
       "\n",
       "    .dataframe thead th {\n",
       "        text-align: right;\n",
       "    }\n",
       "</style>\n",
       "<table border=\"1\" class=\"dataframe\">\n",
       "  <thead>\n",
       "    <tr style=\"text-align: right;\">\n",
       "      <th></th>\n",
       "      <th>id</th>\n",
       "      <th>vendor_id</th>\n",
       "      <th>pickup_datetime</th>\n",
       "      <th>dropoff_datetime</th>\n",
       "      <th>passenger_count</th>\n",
       "      <th>pickup_longitude</th>\n",
       "      <th>pickup_latitude</th>\n",
       "      <th>dropoff_longitude</th>\n",
       "      <th>dropoff_latitude</th>\n",
       "      <th>store_and_fwd_flag</th>\n",
       "      <th>trip_duration</th>\n",
       "    </tr>\n",
       "  </thead>\n",
       "  <tbody>\n",
       "    <tr>\n",
       "      <th>469114</th>\n",
       "      <td>id2380741</td>\n",
       "      <td>2</td>\n",
       "      <td>2016-05-21 10:40:14</td>\n",
       "      <td>2016-05-21 10:51:11</td>\n",
       "      <td>1</td>\n",
       "      <td>-73.981796</td>\n",
       "      <td>40.762035</td>\n",
       "      <td>-73.972267</td>\n",
       "      <td>40.781265</td>\n",
       "      <td>N</td>\n",
       "      <td>657</td>\n",
       "    </tr>\n",
       "    <tr>\n",
       "      <th>694852</th>\n",
       "      <td>id3946961</td>\n",
       "      <td>2</td>\n",
       "      <td>2016-01-08 18:49:27</td>\n",
       "      <td>2016-01-08 18:52:42</td>\n",
       "      <td>5</td>\n",
       "      <td>-73.980965</td>\n",
       "      <td>40.747677</td>\n",
       "      <td>-73.982704</td>\n",
       "      <td>40.741161</td>\n",
       "      <td>N</td>\n",
       "      <td>195</td>\n",
       "    </tr>\n",
       "  </tbody>\n",
       "</table>\n",
       "</div>"
      ],
      "text/plain": [
       "               id  vendor_id      pickup_datetime     dropoff_datetime  \\\n",
       "469114  id2380741          2  2016-05-21 10:40:14  2016-05-21 10:51:11   \n",
       "694852  id3946961          2  2016-01-08 18:49:27  2016-01-08 18:52:42   \n",
       "\n",
       "        passenger_count  pickup_longitude  pickup_latitude  dropoff_longitude  \\\n",
       "469114                1        -73.981796        40.762035         -73.972267   \n",
       "694852                5        -73.980965        40.747677         -73.982704   \n",
       "\n",
       "        dropoff_latitude store_and_fwd_flag  trip_duration  \n",
       "469114         40.781265                  N            657  \n",
       "694852         40.741161                  N            195  "
      ]
     },
     "execution_count": 16,
     "metadata": {},
     "output_type": "execute_result"
    }
   ],
   "source": [
    "train.head(2)"
   ]
  },
  {
   "cell_type": "code",
   "execution_count": 17,
   "id": "310e56c5",
   "metadata": {},
   "outputs": [
    {
     "data": {
      "text/html": [
       "<div>\n",
       "<style scoped>\n",
       "    .dataframe tbody tr th:only-of-type {\n",
       "        vertical-align: middle;\n",
       "    }\n",
       "\n",
       "    .dataframe tbody tr th {\n",
       "        vertical-align: top;\n",
       "    }\n",
       "\n",
       "    .dataframe thead th {\n",
       "        text-align: right;\n",
       "    }\n",
       "</style>\n",
       "<table border=\"1\" class=\"dataframe\">\n",
       "  <thead>\n",
       "    <tr style=\"text-align: right;\">\n",
       "      <th></th>\n",
       "      <th>id</th>\n",
       "      <th>vendor_id</th>\n",
       "      <th>pickup_datetime</th>\n",
       "      <th>dropoff_datetime</th>\n",
       "      <th>passenger_count</th>\n",
       "      <th>pickup_longitude</th>\n",
       "      <th>pickup_latitude</th>\n",
       "      <th>dropoff_longitude</th>\n",
       "      <th>dropoff_latitude</th>\n",
       "      <th>store_and_fwd_flag</th>\n",
       "      <th>trip_duration</th>\n",
       "    </tr>\n",
       "  </thead>\n",
       "  <tbody>\n",
       "    <tr>\n",
       "      <th>409888</th>\n",
       "      <td>id3315205</td>\n",
       "      <td>1</td>\n",
       "      <td>2016-06-21 22:06:35</td>\n",
       "      <td>2016-06-21 22:19:19</td>\n",
       "      <td>1</td>\n",
       "      <td>-73.981903</td>\n",
       "      <td>40.765690</td>\n",
       "      <td>-73.996429</td>\n",
       "      <td>40.737450</td>\n",
       "      <td>N</td>\n",
       "      <td>764</td>\n",
       "    </tr>\n",
       "    <tr>\n",
       "      <th>666838</th>\n",
       "      <td>id0273627</td>\n",
       "      <td>1</td>\n",
       "      <td>2016-01-29 08:50:01</td>\n",
       "      <td>2016-01-29 09:37:45</td>\n",
       "      <td>1</td>\n",
       "      <td>-73.963600</td>\n",
       "      <td>40.774395</td>\n",
       "      <td>-74.177101</td>\n",
       "      <td>40.695042</td>\n",
       "      <td>N</td>\n",
       "      <td>2864</td>\n",
       "    </tr>\n",
       "  </tbody>\n",
       "</table>\n",
       "</div>"
      ],
      "text/plain": [
       "               id  vendor_id      pickup_datetime     dropoff_datetime  \\\n",
       "409888  id3315205          1  2016-06-21 22:06:35  2016-06-21 22:19:19   \n",
       "666838  id0273627          1  2016-01-29 08:50:01  2016-01-29 09:37:45   \n",
       "\n",
       "        passenger_count  pickup_longitude  pickup_latitude  dropoff_longitude  \\\n",
       "409888                1        -73.981903        40.765690         -73.996429   \n",
       "666838                1        -73.963600        40.774395         -74.177101   \n",
       "\n",
       "        dropoff_latitude store_and_fwd_flag  trip_duration  \n",
       "409888         40.737450                  N            764  \n",
       "666838         40.695042                  N           2864  "
      ]
     },
     "execution_count": 17,
     "metadata": {},
     "output_type": "execute_result"
    }
   ],
   "source": [
    "test.head(2)"
   ]
  },
  {
   "cell_type": "code",
   "execution_count": 22,
   "id": "3ebf6d51",
   "metadata": {},
   "outputs": [],
   "source": [
    "test['simple_mean'] = train['trip_duration'].mean()"
   ]
  },
  {
   "cell_type": "code",
   "execution_count": 21,
   "id": "f9fe239c",
   "metadata": {},
   "outputs": [
    {
     "data": {
      "text/plain": [
       "623.6512895741314"
      ]
     },
     "execution_count": 21,
     "metadata": {},
     "output_type": "execute_result"
    }
   ],
   "source": [
    "#calculating mean absolute error\n",
    "\n",
    "\n",
    "from sklearn.metrics import mean_absolute_error as MAE\n",
    "\n",
    "\n",
    "simple_mean_error = MAE(test['trip_duration'] , test['simple_mean'])\n",
    "simple_mean_error"
   ]
  },
  {
   "cell_type": "code",
   "execution_count": 26,
   "id": "06994f51",
   "metadata": {},
   "outputs": [
    {
     "ename": "SyntaxError",
     "evalue": "positional argument follows keyword argument (1559305707.py, line 3)",
     "output_type": "error",
     "traceback": [
      "\u001b[1;36m  Input \u001b[1;32mIn [26]\u001b[1;36m\u001b[0m\n\u001b[1;33m    trip_type = pd.pivot_table(train, values = 'trip_duration' , index['passenger_count'], aggfun=np.mean)\u001b[0m\n\u001b[1;37m                                                                                                         ^\u001b[0m\n\u001b[1;31mSyntaxError\u001b[0m\u001b[1;31m:\u001b[0m positional argument follows keyword argument\n"
     ]
    }
   ],
   "source": [
    "#Mean trip duration  with respect to passenger_count¶\n",
    "\n",
    "trip_type = pd.pivot_table(train, values = 'trip_duration' , index['passenger_count'], aggfun=np.mean)\n",
    "trip_type\n",
    "\n",
    "\n"
   ]
  },
  {
   "cell_type": "code",
   "execution_count": 104,
   "id": "cd564215",
   "metadata": {},
   "outputs": [],
   "source": [
    "date = pd.DatetimeIndex(data['pickup_datetime'])\n"
   ]
  },
  {
   "cell_type": "code",
   "execution_count": 105,
   "id": "4b977a2a",
   "metadata": {},
   "outputs": [],
   "source": [
    "# extracting new columns from \"last_transaction\"\n",
    "\n",
    "# last day of year when transaction was done\n",
    "data['doy_ls_pick'] = date.dayofyear\n",
    "\n",
    "# week of year when last transaction was done\n",
    "data['woy_ls_pick'] = date.weekofyear\n",
    "\n",
    "# month of year when last transaction was done\n",
    "data['moy_ls_pick'] = date.month\n",
    "\n",
    "# day of week when last transaction was done\n",
    "data['dow_ls_pick'] = date.dayofweek\n",
    "\n",
    "data['doh_ls_pick'] = date.hour\n",
    "\n",
    "data['dom_ls_pick'] = date.minute\n",
    "\n",
    "data['dos_ls_pick'] = date.second\n",
    "\n",
    "\n",
    "\n",
    "\n"
   ]
  },
  {
   "cell_type": "code",
   "execution_count": 106,
   "id": "9cb17e1a",
   "metadata": {},
   "outputs": [
    {
     "data": {
      "text/html": [
       "<div>\n",
       "<style scoped>\n",
       "    .dataframe tbody tr th:only-of-type {\n",
       "        vertical-align: middle;\n",
       "    }\n",
       "\n",
       "    .dataframe tbody tr th {\n",
       "        vertical-align: top;\n",
       "    }\n",
       "\n",
       "    .dataframe thead th {\n",
       "        text-align: right;\n",
       "    }\n",
       "</style>\n",
       "<table border=\"1\" class=\"dataframe\">\n",
       "  <thead>\n",
       "    <tr style=\"text-align: right;\">\n",
       "      <th></th>\n",
       "      <th>pickup_datetime</th>\n",
       "      <th>doy_ls_pick</th>\n",
       "      <th>woy_ls_pick</th>\n",
       "      <th>moy_ls_pick</th>\n",
       "      <th>dow_ls_pick</th>\n",
       "      <th>doh_ls_pick</th>\n",
       "      <th>dom_ls_pick</th>\n",
       "      <th>dos_ls_pick</th>\n",
       "    </tr>\n",
       "  </thead>\n",
       "  <tbody>\n",
       "    <tr>\n",
       "      <th>469114</th>\n",
       "      <td>2016-05-21 10:40:14</td>\n",
       "      <td>142</td>\n",
       "      <td>20</td>\n",
       "      <td>5</td>\n",
       "      <td>5</td>\n",
       "      <td>10</td>\n",
       "      <td>40</td>\n",
       "      <td>14</td>\n",
       "    </tr>\n",
       "    <tr>\n",
       "      <th>694852</th>\n",
       "      <td>2016-01-08 18:49:27</td>\n",
       "      <td>8</td>\n",
       "      <td>1</td>\n",
       "      <td>1</td>\n",
       "      <td>4</td>\n",
       "      <td>18</td>\n",
       "      <td>49</td>\n",
       "      <td>27</td>\n",
       "    </tr>\n",
       "    <tr>\n",
       "      <th>696324</th>\n",
       "      <td>2016-05-22 00:54:10</td>\n",
       "      <td>143</td>\n",
       "      <td>20</td>\n",
       "      <td>5</td>\n",
       "      <td>6</td>\n",
       "      <td>0</td>\n",
       "      <td>54</td>\n",
       "      <td>10</td>\n",
       "    </tr>\n",
       "    <tr>\n",
       "      <th>356496</th>\n",
       "      <td>2016-06-11 10:32:12</td>\n",
       "      <td>163</td>\n",
       "      <td>23</td>\n",
       "      <td>6</td>\n",
       "      <td>5</td>\n",
       "      <td>10</td>\n",
       "      <td>32</td>\n",
       "      <td>12</td>\n",
       "    </tr>\n",
       "    <tr>\n",
       "      <th>645318</th>\n",
       "      <td>2016-04-03 10:45:51</td>\n",
       "      <td>94</td>\n",
       "      <td>13</td>\n",
       "      <td>4</td>\n",
       "      <td>6</td>\n",
       "      <td>10</td>\n",
       "      <td>45</td>\n",
       "      <td>51</td>\n",
       "    </tr>\n",
       "  </tbody>\n",
       "</table>\n",
       "</div>"
      ],
      "text/plain": [
       "            pickup_datetime  doy_ls_pick  woy_ls_pick  moy_ls_pick  \\\n",
       "469114  2016-05-21 10:40:14          142           20            5   \n",
       "694852  2016-01-08 18:49:27            8            1            1   \n",
       "696324  2016-05-22 00:54:10          143           20            5   \n",
       "356496  2016-06-11 10:32:12          163           23            6   \n",
       "645318  2016-04-03 10:45:51           94           13            4   \n",
       "\n",
       "        dow_ls_pick  doh_ls_pick  dom_ls_pick  dos_ls_pick  \n",
       "469114            5           10           40           14  \n",
       "694852            4           18           49           27  \n",
       "696324            6            0           54           10  \n",
       "356496            5           10           32           12  \n",
       "645318            6           10           45           51  "
      ]
     },
     "execution_count": 106,
     "metadata": {},
     "output_type": "execute_result"
    }
   ],
   "source": [
    "data[['pickup_datetime','doy_ls_pick','woy_ls_pick','moy_ls_pick','dow_ls_pick', 'doh_ls_pick','dom_ls_pick','dos_ls_pick']].head()"
   ]
  },
  {
   "cell_type": "code",
   "execution_count": 107,
   "id": "b90cc978",
   "metadata": {},
   "outputs": [],
   "source": [
    "data['doh_ls_pick'] = date.hour*3600\n",
    "\n",
    "data['dom_ls_pick'] = data['dom_ls_pick']*60\n",
    "data['final_pick'] = data['doh_ls_pick']+ data['dom_ls_pick'] + data['dos_ls_pick']"
   ]
  },
  {
   "cell_type": "code",
   "execution_count": 108,
   "id": "eb637333",
   "metadata": {},
   "outputs": [
    {
     "data": {
      "text/html": [
       "<div>\n",
       "<style scoped>\n",
       "    .dataframe tbody tr th:only-of-type {\n",
       "        vertical-align: middle;\n",
       "    }\n",
       "\n",
       "    .dataframe tbody tr th {\n",
       "        vertical-align: top;\n",
       "    }\n",
       "\n",
       "    .dataframe thead th {\n",
       "        text-align: right;\n",
       "    }\n",
       "</style>\n",
       "<table border=\"1\" class=\"dataframe\">\n",
       "  <thead>\n",
       "    <tr style=\"text-align: right;\">\n",
       "      <th></th>\n",
       "      <th>final_pick</th>\n",
       "      <th>pickup_datetime</th>\n",
       "    </tr>\n",
       "  </thead>\n",
       "  <tbody>\n",
       "    <tr>\n",
       "      <th>469114</th>\n",
       "      <td>38414</td>\n",
       "      <td>2016-05-21 10:40:14</td>\n",
       "    </tr>\n",
       "    <tr>\n",
       "      <th>694852</th>\n",
       "      <td>67767</td>\n",
       "      <td>2016-01-08 18:49:27</td>\n",
       "    </tr>\n",
       "    <tr>\n",
       "      <th>696324</th>\n",
       "      <td>3250</td>\n",
       "      <td>2016-05-22 00:54:10</td>\n",
       "    </tr>\n",
       "    <tr>\n",
       "      <th>356496</th>\n",
       "      <td>37932</td>\n",
       "      <td>2016-06-11 10:32:12</td>\n",
       "    </tr>\n",
       "    <tr>\n",
       "      <th>645318</th>\n",
       "      <td>38751</td>\n",
       "      <td>2016-04-03 10:45:51</td>\n",
       "    </tr>\n",
       "    <tr>\n",
       "      <th>498463</th>\n",
       "      <td>47001</td>\n",
       "      <td>2016-06-11 13:03:21</td>\n",
       "    </tr>\n",
       "    <tr>\n",
       "      <th>296444</th>\n",
       "      <td>39394</td>\n",
       "      <td>2016-02-10 10:56:34</td>\n",
       "    </tr>\n",
       "    <tr>\n",
       "      <th>191793</th>\n",
       "      <td>77853</td>\n",
       "      <td>2016-02-05 21:37:33</td>\n",
       "    </tr>\n",
       "    <tr>\n",
       "      <th>531779</th>\n",
       "      <td>28481</td>\n",
       "      <td>2016-01-27 07:54:41</td>\n",
       "    </tr>\n",
       "    <tr>\n",
       "      <th>476548</th>\n",
       "      <td>82236</td>\n",
       "      <td>2016-03-11 22:50:36</td>\n",
       "    </tr>\n",
       "  </tbody>\n",
       "</table>\n",
       "</div>"
      ],
      "text/plain": [
       "        final_pick      pickup_datetime\n",
       "469114       38414  2016-05-21 10:40:14\n",
       "694852       67767  2016-01-08 18:49:27\n",
       "696324        3250  2016-05-22 00:54:10\n",
       "356496       37932  2016-06-11 10:32:12\n",
       "645318       38751  2016-04-03 10:45:51\n",
       "498463       47001  2016-06-11 13:03:21\n",
       "296444       39394  2016-02-10 10:56:34\n",
       "191793       77853  2016-02-05 21:37:33\n",
       "531779       28481  2016-01-27 07:54:41\n",
       "476548       82236  2016-03-11 22:50:36"
      ]
     },
     "execution_count": 108,
     "metadata": {},
     "output_type": "execute_result"
    }
   ],
   "source": [
    "data[['final_pick', 'pickup_datetime']].head(10)"
   ]
  },
  {
   "cell_type": "code",
   "execution_count": 113,
   "id": "e768222d",
   "metadata": {},
   "outputs": [],
   "source": [
    "date = pd.DatetimeIndex(data['dropoff_datetime'])"
   ]
  },
  {
   "cell_type": "code",
   "execution_count": 114,
   "id": "55c815a3",
   "metadata": {},
   "outputs": [],
   "source": [
    "data['doh_ls_drop'] = date.hour\n",
    "\n",
    "data['dom_ls_drop'] = date.minute\n",
    "\n",
    "data['dos_ls_drop'] = date.second"
   ]
  },
  {
   "cell_type": "code",
   "execution_count": 115,
   "id": "acfd02de",
   "metadata": {},
   "outputs": [
    {
     "data": {
      "text/html": [
       "<div>\n",
       "<style scoped>\n",
       "    .dataframe tbody tr th:only-of-type {\n",
       "        vertical-align: middle;\n",
       "    }\n",
       "\n",
       "    .dataframe tbody tr th {\n",
       "        vertical-align: top;\n",
       "    }\n",
       "\n",
       "    .dataframe thead th {\n",
       "        text-align: right;\n",
       "    }\n",
       "</style>\n",
       "<table border=\"1\" class=\"dataframe\">\n",
       "  <thead>\n",
       "    <tr style=\"text-align: right;\">\n",
       "      <th></th>\n",
       "      <th>dropoff_datetime</th>\n",
       "      <th>doh_ls_drop</th>\n",
       "      <th>dom_ls_drop</th>\n",
       "      <th>dos_ls_drop</th>\n",
       "    </tr>\n",
       "  </thead>\n",
       "  <tbody>\n",
       "    <tr>\n",
       "      <th>469114</th>\n",
       "      <td>2016-05-21 10:51:11</td>\n",
       "      <td>10</td>\n",
       "      <td>51</td>\n",
       "      <td>11</td>\n",
       "    </tr>\n",
       "    <tr>\n",
       "      <th>694852</th>\n",
       "      <td>2016-01-08 18:52:42</td>\n",
       "      <td>18</td>\n",
       "      <td>52</td>\n",
       "      <td>42</td>\n",
       "    </tr>\n",
       "    <tr>\n",
       "      <th>696324</th>\n",
       "      <td>2016-05-22 01:08:10</td>\n",
       "      <td>1</td>\n",
       "      <td>8</td>\n",
       "      <td>10</td>\n",
       "    </tr>\n",
       "    <tr>\n",
       "      <th>356496</th>\n",
       "      <td>2016-06-11 10:38:50</td>\n",
       "      <td>10</td>\n",
       "      <td>38</td>\n",
       "      <td>50</td>\n",
       "    </tr>\n",
       "    <tr>\n",
       "      <th>645318</th>\n",
       "      <td>2016-04-03 10:57:13</td>\n",
       "      <td>10</td>\n",
       "      <td>57</td>\n",
       "      <td>13</td>\n",
       "    </tr>\n",
       "  </tbody>\n",
       "</table>\n",
       "</div>"
      ],
      "text/plain": [
       "           dropoff_datetime  doh_ls_drop  dom_ls_drop  dos_ls_drop\n",
       "469114  2016-05-21 10:51:11           10           51           11\n",
       "694852  2016-01-08 18:52:42           18           52           42\n",
       "696324  2016-05-22 01:08:10            1            8           10\n",
       "356496  2016-06-11 10:38:50           10           38           50\n",
       "645318  2016-04-03 10:57:13           10           57           13"
      ]
     },
     "execution_count": 115,
     "metadata": {},
     "output_type": "execute_result"
    }
   ],
   "source": [
    "data[['dropoff_datetime','doh_ls_drop','dom_ls_drop','dos_ls_drop']].head()"
   ]
  },
  {
   "cell_type": "code",
   "execution_count": 116,
   "id": "c4594b80",
   "metadata": {},
   "outputs": [],
   "source": [
    "data['doh_ls_drop'] = date.hour*3600\n",
    "\n",
    "data['dom_ls_drop'] = data['dom_ls_drop']*60\n",
    "data['final_drop'] = data['doh_ls_drop']+ data['dom_ls_drop'] + data['dos_ls_drop']"
   ]
  },
  {
   "cell_type": "code",
   "execution_count": 117,
   "id": "43356ec4",
   "metadata": {},
   "outputs": [
    {
     "data": {
      "text/html": [
       "<div>\n",
       "<style scoped>\n",
       "    .dataframe tbody tr th:only-of-type {\n",
       "        vertical-align: middle;\n",
       "    }\n",
       "\n",
       "    .dataframe tbody tr th {\n",
       "        vertical-align: top;\n",
       "    }\n",
       "\n",
       "    .dataframe thead th {\n",
       "        text-align: right;\n",
       "    }\n",
       "</style>\n",
       "<table border=\"1\" class=\"dataframe\">\n",
       "  <thead>\n",
       "    <tr style=\"text-align: right;\">\n",
       "      <th></th>\n",
       "      <th>final_pick</th>\n",
       "      <th>final_drop</th>\n",
       "      <th>dropoff_datetime</th>\n",
       "      <th>pickup_datetime</th>\n",
       "    </tr>\n",
       "  </thead>\n",
       "  <tbody>\n",
       "    <tr>\n",
       "      <th>469114</th>\n",
       "      <td>38414</td>\n",
       "      <td>39071</td>\n",
       "      <td>2016-05-21 10:51:11</td>\n",
       "      <td>2016-05-21 10:40:14</td>\n",
       "    </tr>\n",
       "    <tr>\n",
       "      <th>694852</th>\n",
       "      <td>67767</td>\n",
       "      <td>67962</td>\n",
       "      <td>2016-01-08 18:52:42</td>\n",
       "      <td>2016-01-08 18:49:27</td>\n",
       "    </tr>\n",
       "    <tr>\n",
       "      <th>696324</th>\n",
       "      <td>3250</td>\n",
       "      <td>4090</td>\n",
       "      <td>2016-05-22 01:08:10</td>\n",
       "      <td>2016-05-22 00:54:10</td>\n",
       "    </tr>\n",
       "    <tr>\n",
       "      <th>356496</th>\n",
       "      <td>37932</td>\n",
       "      <td>38330</td>\n",
       "      <td>2016-06-11 10:38:50</td>\n",
       "      <td>2016-06-11 10:32:12</td>\n",
       "    </tr>\n",
       "    <tr>\n",
       "      <th>645318</th>\n",
       "      <td>38751</td>\n",
       "      <td>39433</td>\n",
       "      <td>2016-04-03 10:57:13</td>\n",
       "      <td>2016-04-03 10:45:51</td>\n",
       "    </tr>\n",
       "    <tr>\n",
       "      <th>498463</th>\n",
       "      <td>47001</td>\n",
       "      <td>47759</td>\n",
       "      <td>2016-06-11 13:15:59</td>\n",
       "      <td>2016-06-11 13:03:21</td>\n",
       "    </tr>\n",
       "    <tr>\n",
       "      <th>296444</th>\n",
       "      <td>39394</td>\n",
       "      <td>39591</td>\n",
       "      <td>2016-02-10 10:59:51</td>\n",
       "      <td>2016-02-10 10:56:34</td>\n",
       "    </tr>\n",
       "    <tr>\n",
       "      <th>191793</th>\n",
       "      <td>77853</td>\n",
       "      <td>78726</td>\n",
       "      <td>2016-02-05 21:52:06</td>\n",
       "      <td>2016-02-05 21:37:33</td>\n",
       "    </tr>\n",
       "    <tr>\n",
       "      <th>531779</th>\n",
       "      <td>28481</td>\n",
       "      <td>29500</td>\n",
       "      <td>2016-01-27 08:11:40</td>\n",
       "      <td>2016-01-27 07:54:41</td>\n",
       "    </tr>\n",
       "    <tr>\n",
       "      <th>476548</th>\n",
       "      <td>82236</td>\n",
       "      <td>82827</td>\n",
       "      <td>2016-03-11 23:00:27</td>\n",
       "      <td>2016-03-11 22:50:36</td>\n",
       "    </tr>\n",
       "  </tbody>\n",
       "</table>\n",
       "</div>"
      ],
      "text/plain": [
       "        final_pick  final_drop     dropoff_datetime      pickup_datetime\n",
       "469114       38414       39071  2016-05-21 10:51:11  2016-05-21 10:40:14\n",
       "694852       67767       67962  2016-01-08 18:52:42  2016-01-08 18:49:27\n",
       "696324        3250        4090  2016-05-22 01:08:10  2016-05-22 00:54:10\n",
       "356496       37932       38330  2016-06-11 10:38:50  2016-06-11 10:32:12\n",
       "645318       38751       39433  2016-04-03 10:57:13  2016-04-03 10:45:51\n",
       "498463       47001       47759  2016-06-11 13:15:59  2016-06-11 13:03:21\n",
       "296444       39394       39591  2016-02-10 10:59:51  2016-02-10 10:56:34\n",
       "191793       77853       78726  2016-02-05 21:52:06  2016-02-05 21:37:33\n",
       "531779       28481       29500  2016-01-27 08:11:40  2016-01-27 07:54:41\n",
       "476548       82236       82827  2016-03-11 23:00:27  2016-03-11 22:50:36"
      ]
     },
     "execution_count": 117,
     "metadata": {},
     "output_type": "execute_result"
    }
   ],
   "source": [
    "data[['final_pick','final_drop','dropoff_datetime', 'pickup_datetime']].head(10)"
   ]
  },
  {
   "cell_type": "code",
   "execution_count": 123,
   "id": "cd801066",
   "metadata": {},
   "outputs": [],
   "source": [
    "data['time_travel'] = data['final_drop'] - data['final_pick']"
   ]
  },
  {
   "cell_type": "code",
   "execution_count": 124,
   "id": "dcf28c41",
   "metadata": {},
   "outputs": [
    {
     "data": {
      "text/plain": [
       "0    657\n",
       "1    195\n",
       "2    840\n",
       "3    398\n",
       "4    682\n",
       "Name: time_travel, dtype: int64"
      ]
     },
     "execution_count": 124,
     "metadata": {},
     "output_type": "execute_result"
    }
   ],
   "source": [
    "data['time_travel'].head()"
   ]
  },
  {
   "cell_type": "code",
   "execution_count": 17,
   "id": "b027e38b",
   "metadata": {},
   "outputs": [],
   "source": [
    "# Renaming the column names \n",
    "#data=data.rename(columns = {'pickup_latitude':'lat1','pickup_longitude':'long1'})\n",
    "#data=data.rename(columns = {'dropoff_latitude':'lat2','dropoff_longitude':'long2'})\n",
    "# To make sure that there are no null values and All are either integers/ Float values \n",
    "\n",
    "#print('\\n XXXXXXXXXXXXXXXXXXXXXXX\\n')\n",
    "#data.info()"
   ]
  },
  {
   "cell_type": "code",
   "execution_count": 25,
   "id": "cc2d0522",
   "metadata": {},
   "outputs": [
    {
     "ename": "SyntaxError",
     "evalue": "invalid syntax (1324760882.py, line 28)",
     "output_type": "error",
     "traceback": [
      "\u001b[1;36m  Input \u001b[1;32mIn [25]\u001b[1;36m\u001b[0m\n\u001b[1;33m    print dist(floats1[1],floats2[0],floats3[1],floats4[0])\u001b[0m\n\u001b[1;37m          ^\u001b[0m\n\u001b[1;31mSyntaxError\u001b[0m\u001b[1;31m:\u001b[0m invalid syntax\n"
     ]
    }
   ],
   "source": [
    "\n",
    "from math import radians, cos, sin, asin, sqrt\n",
    "def dist(lat1, long1, lat2, long2):\n",
    "    \"\"\"\n",
    "Replicating the same formula as mentioned in Wiki\n",
    "    \"\"\"\n",
    "    # convert decimal degrees to radians \n",
    "    lat1, long1, lat2, long2 = map(radians, [lat1, long1, lat2, long2])\n",
    "    # haversine formula \n",
    "    dlon = long2 - long1 \n",
    "    dlat = lat2 - lat1 \n",
    "    a = sin(dlat/2)**2 + cos(lat1) * cos(lat2) * sin(dlon/2)**2\n",
    "    c = 2 * asin(sqrt(a)) \n",
    "    # Radius of earth in kilometers is 6371\n",
    "    km = 6371* c\n",
    "    return km\n",
    "with open(r\"C:/Users/KIWI/Downloads/analytics vidhya/nyc_taxi_final-1560498097450/nyc_taxi_trip_duration.csv\",'rb') as f1:\n",
    "    reader1 = csv.reader(f1, delimeter = ',', qutoing= csv.QUOTE_NONE)\n",
    "    header1 = reader1.next()\n",
    "    for row1 in reader1:\n",
    "        floats1 = map(float,row[16:])\n",
    "        floats2 = map(float,row[17:])\n",
    "        floats3 = map(float,row[18:])\n",
    "        floats4 = map(float,row[19:])\n",
    "        print(floats1)\n",
    "        print(floats2)\n",
    "        print(floats3)\n",
    "        print(floats4)\n",
    "        print dist(floats1[1],floats2[0],floats3[1],floats4[0])\n",
    "        \n"
   ]
  },
  {
   "cell_type": "code",
   "execution_count": 30,
   "id": "db7baf61",
   "metadata": {},
   "outputs": [
    {
     "data": {
      "text/plain": [
       "<function __main__.dist(pickup_latitude, pickup_longitude, dropoff_latitude, dropoff_longitude)>"
      ]
     },
     "execution_count": 30,
     "metadata": {},
     "output_type": "execute_result"
    }
   ],
   "source": [
    "dist"
   ]
  },
  {
   "cell_type": "code",
   "execution_count": 29,
   "id": "6145acf4",
   "metadata": {},
   "outputs": [
    {
     "data": {
      "text/plain": [
       "id                     object\n",
       "vendor_id               int64\n",
       "pickup_datetime        object\n",
       "dropoff_datetime       object\n",
       "passenger_count         int64\n",
       "pickup_longitude      float64\n",
       "pickup_latitude       float64\n",
       "dropoff_longitude     float64\n",
       "dropoff_latitude      float64\n",
       "store_and_fwd_flag     object\n",
       "trip_duration           int64\n",
       "dtype: object"
      ]
     },
     "execution_count": 29,
     "metadata": {},
     "output_type": "execute_result"
    }
   ],
   "source": [
    "data.dtypes"
   ]
  },
  {
   "cell_type": "code",
   "execution_count": 30,
   "id": "f2f2a150",
   "metadata": {},
   "outputs": [],
   "source": [
    "categorical_cols = ['id', 'pickup_datetime', 'dropoff_datetime', 'store_and_fwd_flag']"
   ]
  },
  {
   "cell_type": "code",
   "execution_count": 31,
   "id": "40442530",
   "metadata": {},
   "outputs": [
    {
     "data": {
      "text/plain": [
       "id                    729322\n",
       "pickup_datetime       709359\n",
       "dropoff_datetime      709308\n",
       "store_and_fwd_flag         2\n",
       "dtype: int64"
      ]
     },
     "execution_count": 31,
     "metadata": {},
     "output_type": "execute_result"
    }
   ],
   "source": [
    "data[categorical_cols].nunique()"
   ]
  },
  {
   "cell_type": "code",
   "execution_count": 32,
   "id": "1ede804b",
   "metadata": {},
   "outputs": [
    {
     "data": {
      "text/html": [
       "<div>\n",
       "<style scoped>\n",
       "    .dataframe tbody tr th:only-of-type {\n",
       "        vertical-align: middle;\n",
       "    }\n",
       "\n",
       "    .dataframe tbody tr th {\n",
       "        vertical-align: top;\n",
       "    }\n",
       "\n",
       "    .dataframe thead th {\n",
       "        text-align: right;\n",
       "    }\n",
       "</style>\n",
       "<table border=\"1\" class=\"dataframe\">\n",
       "  <thead>\n",
       "    <tr style=\"text-align: right;\">\n",
       "      <th></th>\n",
       "      <th>N</th>\n",
       "      <th>Y</th>\n",
       "    </tr>\n",
       "  </thead>\n",
       "  <tbody>\n",
       "    <tr>\n",
       "      <th>0</th>\n",
       "      <td>1</td>\n",
       "      <td>0</td>\n",
       "    </tr>\n",
       "    <tr>\n",
       "      <th>1</th>\n",
       "      <td>1</td>\n",
       "      <td>0</td>\n",
       "    </tr>\n",
       "    <tr>\n",
       "      <th>2</th>\n",
       "      <td>1</td>\n",
       "      <td>0</td>\n",
       "    </tr>\n",
       "    <tr>\n",
       "      <th>3</th>\n",
       "      <td>1</td>\n",
       "      <td>0</td>\n",
       "    </tr>\n",
       "    <tr>\n",
       "      <th>4</th>\n",
       "      <td>1</td>\n",
       "      <td>0</td>\n",
       "    </tr>\n",
       "  </tbody>\n",
       "</table>\n",
       "</div>"
      ],
      "text/plain": [
       "   N  Y\n",
       "0  1  0\n",
       "1  1  0\n",
       "2  1  0\n",
       "3  1  0\n",
       "4  1  0"
      ]
     },
     "execution_count": 32,
     "metadata": {},
     "output_type": "execute_result"
    }
   ],
   "source": [
    "pd.get_dummies(data['store_and_fwd_flag']).head()"
   ]
  },
  {
   "cell_type": "code",
   "execution_count": 33,
   "id": "4799b417",
   "metadata": {},
   "outputs": [
    {
     "data": {
      "text/html": [
       "<div>\n",
       "<style scoped>\n",
       "    .dataframe tbody tr th:only-of-type {\n",
       "        vertical-align: middle;\n",
       "    }\n",
       "\n",
       "    .dataframe tbody tr th {\n",
       "        vertical-align: top;\n",
       "    }\n",
       "\n",
       "    .dataframe thead th {\n",
       "        text-align: right;\n",
       "    }\n",
       "</style>\n",
       "<table border=\"1\" class=\"dataframe\">\n",
       "  <thead>\n",
       "    <tr style=\"text-align: right;\">\n",
       "      <th></th>\n",
       "      <th>vendor_id</th>\n",
       "      <th>passenger_count</th>\n",
       "      <th>pickup_longitude</th>\n",
       "      <th>pickup_latitude</th>\n",
       "      <th>dropoff_longitude</th>\n",
       "      <th>dropoff_latitude</th>\n",
       "      <th>store_and_fwd_flag</th>\n",
       "      <th>trip_duration</th>\n",
       "    </tr>\n",
       "  </thead>\n",
       "  <tbody>\n",
       "    <tr>\n",
       "      <th>0</th>\n",
       "      <td>2</td>\n",
       "      <td>1</td>\n",
       "      <td>-73.953918</td>\n",
       "      <td>40.778873</td>\n",
       "      <td>-73.963875</td>\n",
       "      <td>40.771164</td>\n",
       "      <td>N</td>\n",
       "      <td>400</td>\n",
       "    </tr>\n",
       "    <tr>\n",
       "      <th>1</th>\n",
       "      <td>1</td>\n",
       "      <td>2</td>\n",
       "      <td>-73.988312</td>\n",
       "      <td>40.731743</td>\n",
       "      <td>-73.994751</td>\n",
       "      <td>40.694931</td>\n",
       "      <td>N</td>\n",
       "      <td>1100</td>\n",
       "    </tr>\n",
       "    <tr>\n",
       "      <th>2</th>\n",
       "      <td>2</td>\n",
       "      <td>2</td>\n",
       "      <td>-73.997314</td>\n",
       "      <td>40.721458</td>\n",
       "      <td>-73.948029</td>\n",
       "      <td>40.774918</td>\n",
       "      <td>N</td>\n",
       "      <td>1635</td>\n",
       "    </tr>\n",
       "    <tr>\n",
       "      <th>3</th>\n",
       "      <td>2</td>\n",
       "      <td>6</td>\n",
       "      <td>-73.961670</td>\n",
       "      <td>40.759720</td>\n",
       "      <td>-73.956779</td>\n",
       "      <td>40.780628</td>\n",
       "      <td>N</td>\n",
       "      <td>1141</td>\n",
       "    </tr>\n",
       "    <tr>\n",
       "      <th>4</th>\n",
       "      <td>1</td>\n",
       "      <td>1</td>\n",
       "      <td>-74.017120</td>\n",
       "      <td>40.708469</td>\n",
       "      <td>-73.988182</td>\n",
       "      <td>40.740631</td>\n",
       "      <td>N</td>\n",
       "      <td>848</td>\n",
       "    </tr>\n",
       "  </tbody>\n",
       "</table>\n",
       "</div>"
      ],
      "text/plain": [
       "   vendor_id  passenger_count  pickup_longitude  pickup_latitude  \\\n",
       "0          2                1        -73.953918        40.778873   \n",
       "1          1                2        -73.988312        40.731743   \n",
       "2          2                2        -73.997314        40.721458   \n",
       "3          2                6        -73.961670        40.759720   \n",
       "4          1                1        -74.017120        40.708469   \n",
       "\n",
       "   dropoff_longitude  dropoff_latitude store_and_fwd_flag  trip_duration  \n",
       "0         -73.963875         40.771164                  N            400  \n",
       "1         -73.994751         40.694931                  N           1100  \n",
       "2         -73.948029         40.774918                  N           1635  \n",
       "3         -73.956779         40.780628                  N           1141  \n",
       "4         -73.988182         40.740631                  N            848  "
      ]
     },
     "execution_count": 33,
     "metadata": {},
     "output_type": "execute_result"
    }
   ],
   "source": [
    "data_cleaned = data.drop(['pickup_datetime', 'dropoff_datetime','id'], axis=1)\n",
    "data_cleaned.head()"
   ]
  },
  {
   "cell_type": "code",
   "execution_count": 34,
   "id": "e54cef8f",
   "metadata": {},
   "outputs": [],
   "source": [
    "#data_replace['dropoff_longitude'] = (data['dropoff_longitude'].isnull()).astype('float')"
   ]
  },
  {
   "cell_type": "code",
   "execution_count": 35,
   "id": "9abb95ba",
   "metadata": {},
   "outputs": [
    {
     "data": {
      "text/html": [
       "<div>\n",
       "<style scoped>\n",
       "    .dataframe tbody tr th:only-of-type {\n",
       "        vertical-align: middle;\n",
       "    }\n",
       "\n",
       "    .dataframe tbody tr th {\n",
       "        vertical-align: top;\n",
       "    }\n",
       "\n",
       "    .dataframe thead th {\n",
       "        text-align: right;\n",
       "    }\n",
       "</style>\n",
       "<table border=\"1\" class=\"dataframe\">\n",
       "  <thead>\n",
       "    <tr style=\"text-align: right;\">\n",
       "      <th></th>\n",
       "      <th>vendor_id</th>\n",
       "      <th>passenger_count</th>\n",
       "      <th>pickup_longitude</th>\n",
       "      <th>pickup_latitude</th>\n",
       "      <th>dropoff_longitude</th>\n",
       "      <th>dropoff_latitude</th>\n",
       "      <th>trip_duration</th>\n",
       "      <th>store_and_fwd_flag_N</th>\n",
       "      <th>store_and_fwd_flag_Y</th>\n",
       "    </tr>\n",
       "  </thead>\n",
       "  <tbody>\n",
       "    <tr>\n",
       "      <th>0</th>\n",
       "      <td>2</td>\n",
       "      <td>1</td>\n",
       "      <td>-73.953918</td>\n",
       "      <td>40.778873</td>\n",
       "      <td>-73.963875</td>\n",
       "      <td>40.771164</td>\n",
       "      <td>400</td>\n",
       "      <td>1</td>\n",
       "      <td>0</td>\n",
       "    </tr>\n",
       "    <tr>\n",
       "      <th>1</th>\n",
       "      <td>1</td>\n",
       "      <td>2</td>\n",
       "      <td>-73.988312</td>\n",
       "      <td>40.731743</td>\n",
       "      <td>-73.994751</td>\n",
       "      <td>40.694931</td>\n",
       "      <td>1100</td>\n",
       "      <td>1</td>\n",
       "      <td>0</td>\n",
       "    </tr>\n",
       "    <tr>\n",
       "      <th>2</th>\n",
       "      <td>2</td>\n",
       "      <td>2</td>\n",
       "      <td>-73.997314</td>\n",
       "      <td>40.721458</td>\n",
       "      <td>-73.948029</td>\n",
       "      <td>40.774918</td>\n",
       "      <td>1635</td>\n",
       "      <td>1</td>\n",
       "      <td>0</td>\n",
       "    </tr>\n",
       "    <tr>\n",
       "      <th>3</th>\n",
       "      <td>2</td>\n",
       "      <td>6</td>\n",
       "      <td>-73.961670</td>\n",
       "      <td>40.759720</td>\n",
       "      <td>-73.956779</td>\n",
       "      <td>40.780628</td>\n",
       "      <td>1141</td>\n",
       "      <td>1</td>\n",
       "      <td>0</td>\n",
       "    </tr>\n",
       "    <tr>\n",
       "      <th>4</th>\n",
       "      <td>1</td>\n",
       "      <td>1</td>\n",
       "      <td>-74.017120</td>\n",
       "      <td>40.708469</td>\n",
       "      <td>-73.988182</td>\n",
       "      <td>40.740631</td>\n",
       "      <td>848</td>\n",
       "      <td>1</td>\n",
       "      <td>0</td>\n",
       "    </tr>\n",
       "  </tbody>\n",
       "</table>\n",
       "</div>"
      ],
      "text/plain": [
       "   vendor_id  passenger_count  pickup_longitude  pickup_latitude  \\\n",
       "0          2                1        -73.953918        40.778873   \n",
       "1          1                2        -73.988312        40.731743   \n",
       "2          2                2        -73.997314        40.721458   \n",
       "3          2                6        -73.961670        40.759720   \n",
       "4          1                1        -74.017120        40.708469   \n",
       "\n",
       "   dropoff_longitude  dropoff_latitude  trip_duration  store_and_fwd_flag_N  \\\n",
       "0         -73.963875         40.771164            400                     1   \n",
       "1         -73.994751         40.694931           1100                     1   \n",
       "2         -73.948029         40.774918           1635                     1   \n",
       "3         -73.956779         40.780628           1141                     1   \n",
       "4         -73.988182         40.740631            848                     1   \n",
       "\n",
       "   store_and_fwd_flag_Y  \n",
       "0                     0  \n",
       "1                     0  \n",
       "2                     0  \n",
       "3                     0  \n",
       "4                     0  "
      ]
     },
     "execution_count": 35,
     "metadata": {},
     "output_type": "execute_result"
    }
   ],
   "source": [
    "data_cleaned = pd.get_dummies(data_cleaned)\n",
    "data_cleaned.head()"
   ]
  },
  {
   "cell_type": "code",
   "execution_count": 36,
   "id": "bdbf7b27",
   "metadata": {},
   "outputs": [
    {
     "data": {
      "text/plain": [
       "((729322, 8), (729322,))"
      ]
     },
     "execution_count": 36,
     "metadata": {},
     "output_type": "execute_result"
    }
   ],
   "source": [
    "x = data_cleaned.drop(['trip_duration'],axis = 1)\n",
    "y = data_cleaned['trip_duration']\n",
    "x.shape, y.shape"
   ]
  },
  {
   "cell_type": "code",
   "execution_count": null,
   "id": "486f3a53",
   "metadata": {},
   "outputs": [],
   "source": []
  }
 ],
 "metadata": {
  "kernelspec": {
   "display_name": "Python 3 (ipykernel)",
   "language": "python",
   "name": "python3"
  },
  "language_info": {
   "codemirror_mode": {
    "name": "ipython",
    "version": 3
   },
   "file_extension": ".py",
   "mimetype": "text/x-python",
   "name": "python",
   "nbconvert_exporter": "python",
   "pygments_lexer": "ipython3",
   "version": "3.9.12"
  }
 },
 "nbformat": 4,
 "nbformat_minor": 5
}
